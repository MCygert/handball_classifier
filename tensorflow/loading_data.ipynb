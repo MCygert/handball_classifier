{
 "cells": [
  {
   "cell_type": "code",
   "execution_count": 14,
   "metadata": {
    "collapsed": true
   },
   "outputs": [],
   "source": [
    "import os\n",
    "import shutil\n",
    "from pathlib import Path\n",
    "import os\n",
    "import matplotlib.pyplot as plt\n",
    "import pandas as pd\n",
    "import numpy as np\n",
    "import tensorflow as tf\n"
   ]
  },
  {
   "cell_type": "code",
   "execution_count": 19,
   "outputs": [
    {
     "name": "stdout",
     "output_type": "stream",
     "text": [
      "tf.Tensor(b'/lost+found', shape=(), dtype=string)\n",
      "tf.Tensor(b'/opt', shape=(), dtype=string)\n",
      "tf.Tensor(b'/etc', shape=(), dtype=string)\n",
      "tf.Tensor(b'/lib', shape=(), dtype=string)\n",
      "tf.Tensor(b'/dev', shape=(), dtype=string)\n"
     ]
    }
   ],
   "source": [
    "actions_root = 'data/'\n",
    "actions_root = Path(actions_root)\n",
    "# list_actions = tf.data.Dataset.list_files(str(actions_root/'/*'))\n",
    "for f in list_actions.take(5):\n",
    "    print(f)"
   ],
   "metadata": {
    "collapsed": false,
    "pycharm": {
     "name": "#%%\n"
    }
   }
  },
  {
   "cell_type": "code",
   "execution_count": null,
   "outputs": [],
   "source": [],
   "metadata": {
    "collapsed": false,
    "pycharm": {
     "name": "#%%\n"
    }
   }
  }
 ],
 "metadata": {
  "kernelspec": {
   "display_name": "Python 3",
   "language": "python",
   "name": "python3"
  },
  "language_info": {
   "codemirror_mode": {
    "name": "ipython",
    "version": 2
   },
   "file_extension": ".py",
   "mimetype": "text/x-python",
   "name": "python",
   "nbconvert_exporter": "python",
   "pygments_lexer": "ipython2",
   "version": "2.7.6"
  }
 },
 "nbformat": 4,
 "nbformat_minor": 0
}