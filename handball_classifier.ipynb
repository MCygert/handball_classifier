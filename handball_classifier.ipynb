{
 "cells": [
  {
   "cell_type": "code",
   "execution_count": 52,
   "id": "c6cded11-e77d-479f-b603-692e2ed827b0",
   "metadata": {
    "pycharm": {
     "name": "#%%\n"
    }
   },
   "outputs": [],
   "source": [
    "import cv2\n",
    "import numpy as np\n",
    "from torchvision import transforms\n",
    "import torchvision\n",
    "from torch.utils.data import Dataset, DataLoader\n",
    "\n",
    "def get_frames(filename, n_frames=10):\n",
    "    frames = []\n",
    "    v_cap = cv2.VideoCapture(filename)\n",
    "    v_len = int(v_cap.get(cv2.CAP_PROP_FRAME_COUNT))\n",
    "    frame_list = np.linspace(0, v_len - 1, v_len // n_frames, dtype=np.int16)\n",
    "\n",
    "    for fn in range(v_len):\n",
    "        success, frame = v_cap.read()\n",
    "        if not success:\n",
    "            continue\n",
    "        if fn in frame_list:\n",
    "            frame = cv2.cvtColor(frame, cv2.COLOR_BGR2RGB)\n",
    "            asarray = np.asarray(frame)\n",
    "            frames.append(asarray)\n",
    "\n",
    "    v_cap.release()\n",
    "    # Change dimensions to Frames x Channel x Height x Width\n",
    "    np_asarray = np.transpose(np.asarray(frames), (3,0,2, 1))\n",
    "    return np_asarray, len(np_asarray)\n",
    "\n",
    "\n",
    "def _cut_frames(frames, length, number_of_frames_wanted):\n",
    "    difference = length - number_of_frames_wanted\n",
    "    half_of_frames_to_delete = difference // 2\n",
    "\n",
    "    return frames[half_of_frames_to_delete: length - half_of_frames_to_delete]"
   ]
  },
  {
   "cell_type": "code",
   "execution_count": 53,
   "id": "bfe7b7ff",
   "metadata": {
    "collapsed": false,
    "jupyter": {
     "outputs_hidden": false
    },
    "pycharm": {
     "name": "#%%\n"
    }
   },
   "outputs": [],
   "source": [
    "class VideoDataSet(Dataset):\n",
    "    def __init__(self, all_video_file, transformers, how_many_frames):\n",
    "        # This maps csv which has file path and label to numpy arrray\n",
    "        self.videos = np.genfromtxt(all_video_file, delimiter=\",\", dtype=np.unicode_)\n",
    "        self.transformers = transformers\n",
    "        self.how_many_frames = how_many_frames\n",
    "        self.video_labels = {\"passes\": 0, \"shots\": 1, \"saves\": 2}\n",
    "\n",
    "    def __len__(self):\n",
    "        return len(self.videos)\n",
    "\n",
    "    def __getitem__(self, idx):\n",
    "        movie, label = self.videos[idx]\n",
    "        frames, length = get_frames(movie)\n",
    "        frames = _cut_frames(frames, length, self.how_many_frames)\n",
    "        frames_torch = []\n",
    "\n",
    "        for frame in frames:\n",
    "            image = Image.fromarray(frame, \"RGB\")\n",
    "            frame = self.transformers(image)\n",
    "            frames_torch.append(frame)\n",
    "        return torch.stack(frames_torch), self.video_labels.get(label)"
   ]
  },
  {
   "cell_type": "code",
   "execution_count": 5,
   "id": "ea939d7c",
   "metadata": {
    "collapsed": false,
    "jupyter": {
     "outputs_hidden": false
    },
    "pycharm": {
     "name": "#%%\n"
    }
   },
   "outputs": [
    {
     "data": {
      "text/plain": [
       "[3, 4, 5, 6, 7]"
      ]
     },
     "execution_count": 5,
     "metadata": {},
     "output_type": "execute_result"
    }
   ],
   "source": []
  },
  {
   "cell_type": "code",
   "execution_count": 14,
   "id": "9bcecf1a-298a-4730-b0d1-6e8e631ae6de",
   "metadata": {},
   "outputs": [],
   "source": [
    "\n"
   ]
  },
  {
   "cell_type": "code",
   "execution_count": 38,
   "id": "b42b963d-8d75-4f98-bfaf-d99232a19a2c",
   "metadata": {},
   "outputs": [
    {
     "data": {
      "text/plain": [
       "(21, 3, 1280, 720)"
      ]
     },
     "execution_count": 38,
     "metadata": {},
     "output_type": "execute_result"
    }
   ],
   "source": [
    "frames, length = get_frames(\"data/passes/pass121.mp4\")\n",
    "frames.shape"
   ]
  },
  {
   "cell_type": "code",
   "execution_count": 16,
   "id": "7b197518-4124-4db7-896d-6cdc851224f7",
   "metadata": {},
   "outputs": [],
   "source": []
  },
  {
   "cell_type": "code",
   "execution_count": 42,
   "id": "7aeafa39-16ac-478e-9d8f-9a88695bd2c1",
   "metadata": {},
   "outputs": [
    {
     "data": {
      "text/plain": [
       "torch.Size([3, 256, 256])"
      ]
     },
     "execution_count": 42,
     "metadata": {},
     "output_type": "execute_result"
    }
   ],
   "source": [
    "image = Image.fromarray(frames[1], \"RGB\")\n",
    "image = data_transform(image)\n",
    "image.shape"
   ]
  },
  {
   "cell_type": "code",
   "execution_count": 21,
   "id": "f37f46b5-0c4f-485d-abfe-75224cd54685",
   "metadata": {},
   "outputs": [],
   "source": [
    "import cv2\n",
    "from torch.utils.data import Dataset, DataLoader\n",
    "import numpy as np\n",
    "import torch\n",
    "from torchvision import transforms\n",
    "from PIL import Image\n",
    "\n",
    "class VideoDataSet(Dataset):\n",
    "    def __init__(self, all_video_file, transformers, how_many_frames):\n",
    "        # This maps csv which has file path and label to numpy arrray \n",
    "        self.videos = np.genfromtxt(all_video_file, delimiter=\",\", dtype=np.unicode_)\n",
    "        self.transformers = transformers\n",
    "        self.how_many_frames = how_many_frames\n",
    "\n",
    "    def __len__(self):\n",
    "        return len(self.videos)\n",
    "\n",
    "    def __getitem__(self, idx):\n",
    "        movie, label = self.videos[idx]\n",
    "        frames, length = get_frames(movie)\n",
    "        frames = _cut_frames(frames, length, self.how_many_frames)\n",
    "        frames_torch = []\n",
    "\n",
    "        for frame in frames:\n",
    "            image = Image.fromarray(frame, \"RGB\")\n",
    "            frame = self.transformers(image)\n",
    "            frames_torch.append(frame)\n",
    "        return frames_torch, label\n",
    "\n",
    "\n",
    "data_transform = transforms.Compose([\n",
    "    transforms.Resize((256, 256)),\n",
    "    transforms.ToTensor(),\n",
    "    transforms.Normalize(mean=[0.485, 0.456, 0.406],\n",
    "                             std=[0.229, 0.224, 0.225]),\n",
    "])"
   ]
  },
  {
   "cell_type": "code",
   "execution_count": 1,
   "id": "02eab7c1-49fa-4c21-b7f8-b0d112553140",
   "metadata": {
    "pycharm": {
     "name": "#%%\n"
    }
   },
   "outputs": [
    {
     "ename": "NameError",
     "evalue": "name 'VideoDataSet' is not defined",
     "output_type": "error",
     "traceback": [
      "\u001B[0;31m---------------------------------------------------------------------------\u001B[0m",
      "\u001B[0;31mNameError\u001B[0m                                 Traceback (most recent call last)",
      "\u001B[0;32m/var/folders/qx/wt9m9jv13w90db5mw7rwsh_h0000gn/T/ipykernel_37127/2052241467.py\u001B[0m in \u001B[0;36m<module>\u001B[0;34m\u001B[0m\n\u001B[0;32m----> 1\u001B[0;31m \u001B[0mds\u001B[0m \u001B[0;34m=\u001B[0m \u001B[0mVideoDataSet\u001B[0m\u001B[0;34m(\u001B[0m\u001B[0;34m\"data/videos.csv\"\u001B[0m\u001B[0;34m,\u001B[0m \u001B[0mdata_transform\u001B[0m\u001B[0;34m,\u001B[0m \u001B[0;36m15\u001B[0m\u001B[0;34m)\u001B[0m\u001B[0;34m\u001B[0m\u001B[0;34m\u001B[0m\u001B[0m\n\u001B[0m\u001B[1;32m      2\u001B[0m \u001B[0mframes\u001B[0m \u001B[0;34m=\u001B[0m \u001B[0mds\u001B[0m\u001B[0;34m.\u001B[0m\u001B[0m__getitem__\u001B[0m\u001B[0;34m(\u001B[0m\u001B[0;36m9\u001B[0m\u001B[0;34m)\u001B[0m\u001B[0;34m[\u001B[0m\u001B[0;36m0\u001B[0m\u001B[0;34m]\u001B[0m\u001B[0;34m\u001B[0m\u001B[0;34m\u001B[0m\u001B[0m\n\u001B[1;32m      3\u001B[0m \u001B[0mtorch\u001B[0m\u001B[0;34m.\u001B[0m\u001B[0mstack\u001B[0m\u001B[0;34m(\u001B[0m\u001B[0mframes\u001B[0m\u001B[0;34m)\u001B[0m\u001B[0;34m.\u001B[0m\u001B[0mshape\u001B[0m\u001B[0;34m\u001B[0m\u001B[0;34m\u001B[0m\u001B[0m\n",
      "\u001B[0;31mNameError\u001B[0m: name 'VideoDataSet' is not defined"
     ]
    }
   ],
   "source": [
    "ds = VideoDataSet(\"data/videos.csv\", data_transform, 15)\n",
    "frames = ds.__getitem__(9)[0]\n",
    "torch.stack(frames).shape"
   ]
  },
  {
   "cell_type": "code",
   "execution_count": 12,
   "outputs": [
    {
     "data": {
      "text/plain": "torch.Size([63, 720, 1280, 3])"
     },
     "execution_count": 12,
     "metadata": {},
     "output_type": "execute_result"
    }
   ],
   "source": [
    "import torchvision\n"
   ],
   "metadata": {
    "collapsed": false,
    "pycharm": {
     "name": "#%%\n"
    }
   }
  },
  {
   "cell_type": "code",
   "execution_count": 16,
   "outputs": [
    {
     "ename": "ValueError",
     "evalue": "Unknown value '3' for argument num_classes. Valid values are {'400', '600', '700'}.",
     "output_type": "error",
     "traceback": [
      "\u001B[0;31m---------------------------------------------------------------------------\u001B[0m",
      "\u001B[0;31mValueError\u001B[0m                                Traceback (most recent call last)",
      "\u001B[0;32m/var/folders/qx/wt9m9jv13w90db5mw7rwsh_h0000gn/T/ipykernel_38278/562857945.py\u001B[0m in \u001B[0;36m<module>\u001B[0;34m\u001B[0m\n\u001B[0;32m----> 1\u001B[0;31m \u001B[0mtorchvision\u001B[0m\u001B[0;34m.\u001B[0m\u001B[0mdatasets\u001B[0m\u001B[0;34m.\u001B[0m\u001B[0mKinetics\u001B[0m\u001B[0;34m(\u001B[0m\u001B[0;34m\"data/\"\u001B[0m\u001B[0;34m,\u001B[0m \u001B[0;36m15\u001B[0m\u001B[0;34m,\u001B[0m \u001B[0mnum_classes\u001B[0m\u001B[0;34m=\u001B[0m\u001B[0;34m'3'\u001B[0m\u001B[0;34m)\u001B[0m\u001B[0;34m\u001B[0m\u001B[0;34m\u001B[0m\u001B[0m\n\u001B[0m",
      "\u001B[0;32m~/Library/Application Support/JetBrains/DataSpell2021.3/projects/workspace/venv/lib/python3.9/site-packages/torchvision/datasets/kinetics.py\u001B[0m in \u001B[0;36m__init__\u001B[0;34m(self, root, frames_per_clip, num_classes, split, frame_rate, step_between_clips, transform, extensions, download, num_download_workers, num_workers, _precomputed_metadata, _video_width, _video_height, _video_min_dimension, _audio_samples, _audio_channels, _legacy)\u001B[0m\n\u001B[1;32m    109\u001B[0m \u001B[0;34m\u001B[0m\u001B[0m\n\u001B[1;32m    110\u001B[0m         \u001B[0;31m# TODO: support test\u001B[0m\u001B[0;34m\u001B[0m\u001B[0;34m\u001B[0m\u001B[0;34m\u001B[0m\u001B[0m\n\u001B[0;32m--> 111\u001B[0;31m         \u001B[0mself\u001B[0m\u001B[0;34m.\u001B[0m\u001B[0mnum_classes\u001B[0m \u001B[0;34m=\u001B[0m \u001B[0mverify_str_arg\u001B[0m\u001B[0;34m(\u001B[0m\u001B[0mnum_classes\u001B[0m\u001B[0;34m,\u001B[0m \u001B[0marg\u001B[0m\u001B[0;34m=\u001B[0m\u001B[0;34m\"num_classes\"\u001B[0m\u001B[0;34m,\u001B[0m \u001B[0mvalid_values\u001B[0m\u001B[0;34m=\u001B[0m\u001B[0;34m[\u001B[0m\u001B[0;34m\"400\"\u001B[0m\u001B[0;34m,\u001B[0m \u001B[0;34m\"600\"\u001B[0m\u001B[0;34m,\u001B[0m \u001B[0;34m\"700\"\u001B[0m\u001B[0;34m]\u001B[0m\u001B[0;34m)\u001B[0m\u001B[0;34m\u001B[0m\u001B[0;34m\u001B[0m\u001B[0m\n\u001B[0m\u001B[1;32m    112\u001B[0m         \u001B[0mself\u001B[0m\u001B[0;34m.\u001B[0m\u001B[0mextensions\u001B[0m \u001B[0;34m=\u001B[0m \u001B[0mextensions\u001B[0m\u001B[0;34m\u001B[0m\u001B[0;34m\u001B[0m\u001B[0m\n\u001B[1;32m    113\u001B[0m         \u001B[0mself\u001B[0m\u001B[0;34m.\u001B[0m\u001B[0mnum_download_workers\u001B[0m \u001B[0;34m=\u001B[0m \u001B[0mnum_download_workers\u001B[0m\u001B[0;34m\u001B[0m\u001B[0;34m\u001B[0m\u001B[0m\n",
      "\u001B[0;32m~/Library/Application Support/JetBrains/DataSpell2021.3/projects/workspace/venv/lib/python3.9/site-packages/torchvision/datasets/utils.py\u001B[0m in \u001B[0;36mverify_str_arg\u001B[0;34m(value, arg, valid_values, custom_msg)\u001B[0m\n\u001B[1;32m    461\u001B[0m             msg = msg.format(value=value, arg=arg,\n\u001B[1;32m    462\u001B[0m                              valid_values=iterable_to_str(valid_values))\n\u001B[0;32m--> 463\u001B[0;31m         \u001B[0;32mraise\u001B[0m \u001B[0mValueError\u001B[0m\u001B[0;34m(\u001B[0m\u001B[0mmsg\u001B[0m\u001B[0;34m)\u001B[0m\u001B[0;34m\u001B[0m\u001B[0;34m\u001B[0m\u001B[0m\n\u001B[0m\u001B[1;32m    464\u001B[0m \u001B[0;34m\u001B[0m\u001B[0m\n\u001B[1;32m    465\u001B[0m     \u001B[0;32mreturn\u001B[0m \u001B[0mvalue\u001B[0m\u001B[0;34m\u001B[0m\u001B[0;34m\u001B[0m\u001B[0m\n",
      "\u001B[0;31mValueError\u001B[0m: Unknown value '3' for argument num_classes. Valid values are {'400', '600', '700'}."
     ]
    }
   ],
   "source": [
    "torchvision.datasets.Kinetics(\"data/\", 15, 3)"
   ],
   "metadata": {
    "collapsed": false,
    "pycharm": {
     "name": "#%%\n"
    }
   }
  }
 ],
 "metadata": {
  "kernelspec": {
   "display_name": "Python 3 (ipykernel)",
   "language": "python",
   "name": "python3"
  },
  "language_info": {
   "codemirror_mode": {
    "name": "ipython",
    "version": 3
   },
   "file_extension": ".py",
   "mimetype": "text/x-python",
   "name": "python",
   "nbconvert_exporter": "python",
   "pygments_lexer": "ipython3",
   "version": "3.8.8"
  }
 },
 "nbformat": 4,
 "nbformat_minor": 5
}