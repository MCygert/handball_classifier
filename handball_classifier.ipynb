{
 "cells": [
  {
   "cell_type": "code",
   "execution_count": 1,
   "id": "c6cded11-e77d-479f-b603-692e2ed827b0",
   "metadata": {
    "pycharm": {
     "name": "#%%\n"
    }
   },
   "outputs": [],
   "source": [
    "import cv2\n",
    "import numpy as np\n",
    "from torchvision import transforms\n",
    "\n",
    "def get_frames(filename, n_frames=3):\n",
    "    frames = []\n",
    "    v_cap = cv2.VideoCapture(filename)\n",
    "    v_len = int(v_cap.get(cv2.CAP_PROP_FRAME_COUNT))\n",
    "    frame_list = np.linspace(0, v_len - 1, v_len // n_frames, dtype=np.int16)\n",
    "\n",
    "    for fn in range(v_len):\n",
    "        success, frame = v_cap.read()\n",
    "        if not success:\n",
    "            continue\n",
    "        if fn in frame_list:\n",
    "            frame = cv2.cvtColor(frame, cv2.COLOR_BGR2RGB)\n",
    "            asarray = np.asarray(frame)\n",
    "            frames.append(asarray)\n",
    "\n",
    "    v_cap.release()\n",
    "    # Change dimensions to Frames x Channel x Height x Width\n",
    "    np_asarray = np.transpose(np.asarray(frames),  (0,3,2,1))\n",
    "    return np_asarray,  v_len\n"
   ]
  },
  {
   "cell_type": "code",
   "execution_count": 2,
   "id": "f7a08ccf",
   "metadata": {
    "collapsed": false,
    "jupyter": {
     "outputs_hidden": false
    },
    "pycharm": {
     "name": "#%%\n"
    }
   },
   "outputs": [
    {
     "name": "stdout",
     "output_type": "stream",
     "text": [
      "(17, 3, 1280, 720)\n",
      "[[[0 0 0 ... 0 0 0]\n",
      "  [0 0 0 ... 0 0 0]\n",
      "  [0 0 0 ... 0 0 0]\n",
      "  ...\n",
      "  [0 0 0 ... 0 0 0]\n",
      "  [0 0 0 ... 0 0 0]\n",
      "  [0 0 0 ... 0 0 0]]\n",
      "\n",
      " [[0 0 0 ... 0 0 0]\n",
      "  [0 0 0 ... 0 0 0]\n",
      "  [0 0 0 ... 0 0 0]\n",
      "  ...\n",
      "  [0 0 0 ... 0 0 0]\n",
      "  [0 0 0 ... 0 0 0]\n",
      "  [0 0 0 ... 0 0 0]]\n",
      "\n",
      " [[0 0 0 ... 0 0 0]\n",
      "  [0 0 0 ... 0 0 0]\n",
      "  [0 0 0 ... 0 0 0]\n",
      "  ...\n",
      "  [0 0 0 ... 0 0 0]\n",
      "  [0 0 0 ... 0 0 0]\n",
      "  [0 0 0 ... 0 0 0]]]\n"
     ]
    }
   ],
   "source": [
    "frames, length = get_frames(\"data/passes/pass260.mp4\")\n",
    "print(frames.shape)\n",
    "print(frames[0])"
   ]
  },
  {
   "cell_type": "code",
   "execution_count": 3,
   "id": "2cd65439",
   "metadata": {
    "collapsed": false,
    "jupyter": {
     "outputs_hidden": false
    },
    "pycharm": {
     "name": "#%%\n"
    }
   },
   "outputs": [
    {
     "data": {
      "text/plain": [
       "array([ 0,  3,  7, 11, 14, 18, 22, 25, 29, 33, 37, 40, 44, 48, 51, 55, 59,\n",
       "       63], dtype=int16)"
      ]
     },
     "execution_count": 3,
     "metadata": {},
     "output_type": "execute_result"
    }
   ],
   "source": [
    "np.linspace(0, 63, 18, dtype=np.int16)"
   ]
  },
  {
   "cell_type": "code",
   "execution_count": 4,
   "id": "bfe7b7ff",
   "metadata": {
    "collapsed": false,
    "jupyter": {
     "outputs_hidden": false
    },
    "pycharm": {
     "name": "#%%\n"
    }
   },
   "outputs": [],
   "source": [
    "from PIL import Image\n",
    "data_transform = transforms.Compose([\n",
    "    transforms.Resize((720, 720)),\n",
    "    transforms.ToTensor(),\n",
    "\n",
    "    transforms.Normalize(mean=[0.485, 0.456, 0.406],\n",
    "                             std=[0.229, 0.224, 0.225]),\n",
    "])\n",
    "\n",
    "image =  Image.fromarray(frames[10].T, \"RGB\")\n",
    "new_frames = data_transform(image)\n",
    "tensor_to_pil = transforms.ToPILImage()(new_frames.squeeze_(0))\n",
    "# new_frames\n",
    "image.show()\n",
    "tensor_to_pil.show()"
   ]
  },
  {
   "cell_type": "code",
   "execution_count": 5,
   "id": "ea939d7c",
   "metadata": {
    "collapsed": false,
    "jupyter": {
     "outputs_hidden": false
    },
    "pycharm": {
     "name": "#%%\n"
    }
   },
   "outputs": [
    {
     "data": {
      "text/plain": [
       "[3, 4, 5, 6, 7]"
      ]
     },
     "execution_count": 5,
     "metadata": {},
     "output_type": "execute_result"
    }
   ],
   "source": [
    "l = list(range(10))\n",
    "l[3:len(l)-2]"
   ]
  },
  {
   "cell_type": "code",
   "execution_count": 14,
   "id": "9bcecf1a-298a-4730-b0d1-6e8e631ae6de",
   "metadata": {},
   "outputs": [],
   "source": [
    "def get_frames(filename, n_frames=3):\n",
    "    frames = []\n",
    "    v_cap = cv2.VideoCapture(filename)\n",
    "    v_len = int(v_cap.get(cv2.CAP_PROP_FRAME_COUNT))\n",
    "    frame_list = np.linspace(0, v_len - 1, v_len // n_frames, dtype=np.int16)\n",
    "\n",
    "    for fn in range(v_len):\n",
    "        success, frame = v_cap.read()\n",
    "        if not success:\n",
    "            continue\n",
    "        if fn in frame_list:\n",
    "            frame = cv2.cvtColor(frame, cv2.COLOR_BGR2RGB)\n",
    "            asarray = np.asarray(frame)\n",
    "            frames.append(asarray)\n",
    "\n",
    "    v_cap.release()\n",
    "    # Change dimensions to Frames x Channel x Height x Width\n",
    "    np_asarray = np.transpose(np.asarray(frames), (0,3,2,1))\n",
    "    return np_asarray, len(np_asarray)\n"
   ]
  },
  {
   "cell_type": "code",
   "execution_count": 38,
   "id": "b42b963d-8d75-4f98-bfaf-d99232a19a2c",
   "metadata": {},
   "outputs": [
    {
     "data": {
      "text/plain": [
       "(21, 3, 1280, 720)"
      ]
     },
     "execution_count": 38,
     "metadata": {},
     "output_type": "execute_result"
    }
   ],
   "source": [
    "frames, length = get_frames(\"data/passes/pass121.mp4\")\n",
    "frames.shape"
   ]
  },
  {
   "cell_type": "code",
   "execution_count": 16,
   "id": "7b197518-4124-4db7-896d-6cdc851224f7",
   "metadata": {},
   "outputs": [],
   "source": [
    "def _cut_frames(frames, length, number_of_frames_wanted):\n",
    "    difference = length - number_of_frames_wanted\n",
    "    half_of_frames_to_delete = difference // 2\n",
    "\n",
    "    return frames[half_of_frames_to_delete: length - half_of_frames_to_delete]"
   ]
  },
  {
   "cell_type": "code",
   "execution_count": 42,
   "id": "7aeafa39-16ac-478e-9d8f-9a88695bd2c1",
   "metadata": {},
   "outputs": [
    {
     "data": {
      "text/plain": [
       "torch.Size([3, 256, 256])"
      ]
     },
     "execution_count": 42,
     "metadata": {},
     "output_type": "execute_result"
    }
   ],
   "source": [
    "image = Image.fromarray(frames[1], \"RGB\")\n",
    "image = data_transform(image)\n",
    "image.shape"
   ]
  },
  {
   "cell_type": "code",
   "execution_count": 21,
   "id": "f37f46b5-0c4f-485d-abfe-75224cd54685",
   "metadata": {},
   "outputs": [],
   "source": [
    "import cv2\n",
    "from torch.utils.data import Dataset, DataLoader\n",
    "import numpy as np\n",
    "import torch\n",
    "from torchvision import transforms\n",
    "from PIL import Image\n",
    "\n",
    "class VideoDataSet(Dataset):\n",
    "    def __init__(self, all_video_file, transformers, how_many_frames):\n",
    "        # This maps csv which has file path and label to numpy arrray \n",
    "        self.videos = np.genfromtxt(all_video_file, delimiter=\",\", dtype=np.unicode_)\n",
    "        self.transformers = transformers\n",
    "        self.how_many_frames = how_many_frames\n",
    "\n",
    "    def __len__(self):\n",
    "        return len(self.videos)\n",
    "\n",
    "    def __getitem__(self, idx):\n",
    "        movie, label = self.videos[idx]\n",
    "        frames, length = get_frames(movie)\n",
    "        frames = _cut_frames(frames, length, self.how_many_frames)\n",
    "        frames_torch = []\n",
    "\n",
    "        for frame in frames:\n",
    "            image = Image.fromarray(frame, \"RGB\")\n",
    "            frame = self.transformers(image)\n",
    "            frames_torch.append(frame)\n",
    "        return frames_torch, label\n",
    "\n",
    "\n",
    "data_transform = transforms.Compose([\n",
    "    transforms.Resize((256, 256)),\n",
    "    transforms.ToTensor(),\n",
    "    transforms.Normalize(mean=[0.485, 0.456, 0.406],\n",
    "                             std=[0.229, 0.224, 0.225]),\n",
    "])"
   ]
  },
  {
   "cell_type": "code",
   "execution_count": 48,
   "id": "02eab7c1-49fa-4c21-b7f8-b0d112553140",
   "metadata": {},
   "outputs": [
    {
     "data": {
      "text/plain": [
       "torch.Size([15, 3, 256, 256])"
      ]
     },
     "execution_count": 48,
     "metadata": {},
     "output_type": "execute_result"
    }
   ],
   "source": [
    "ds = VideoDataSet(\"data/videos.csv\", data_transform, 15)\n",
    "frames = ds.__getitem__(9)[0]\n",
    "torch.stack(frames).shape"
   ]
  }
 ],
 "metadata": {
  "kernelspec": {
   "display_name": "Python 3 (ipykernel)",
   "language": "python",
   "name": "python3"
  },
  "language_info": {
   "codemirror_mode": {
    "name": "ipython",
    "version": 3
   },
   "file_extension": ".py",
   "mimetype": "text/x-python",
   "name": "python",
   "nbconvert_exporter": "python",
   "pygments_lexer": "ipython3",
   "version": "3.8.8"
  }
 },
 "nbformat": 4,
 "nbformat_minor": 5
}
