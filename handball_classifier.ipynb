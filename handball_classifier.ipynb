{
 "cells": [
  {
   "cell_type": "code",
   "execution_count": 44,
   "id": "c6cded11-e77d-479f-b603-692e2ed827b0",
   "metadata": {
    "pycharm": {
     "name": "#%%\n"
    }
   },
   "outputs": [],
   "source": [
    "import cv2\n",
    "import numpy as np\n",
    "from torchvision import transforms\n",
    "from torch.utils.data import Dataset, DataLoader\n",
    "import torch\n",
    "from PIL import Image\n",
    "from torch import nn\n",
    "import torch.nn.functional as F\n",
    "\n",
    "\n",
    "def get_frames(filename, n_frames=3):\n",
    "    frames = []\n",
    "    v_cap = cv2.VideoCapture(filename)\n",
    "    v_len = int(v_cap.get(cv2.CAP_PROP_FRAME_COUNT))\n",
    "    frame_list = np.linspace(0, v_len - 1, v_len // n_frames, dtype=np.int16)\n",
    "\n",
    "    for fn in range(v_len):\n",
    "        success, frame = v_cap.read()\n",
    "        if not success:\n",
    "            continue\n",
    "        if fn in frame_list:\n",
    "            frame = cv2.cvtColor(frame, cv2.COLOR_BGR2RGB)\n",
    "            asarray = np.asarray(frame)\n",
    "            frames.append(asarray)\n",
    "\n",
    "    v_cap.release()\n",
    "    # Change dimensions to Frames x Channel x Height x Width\n",
    "    np_asarray = np.transpose(np.asarray(frames), (0, 3, 2, 1))\n",
    "    return np_asarray, len(np_asarray)\n",
    "\n",
    "\n",
    "def _cut_frames(frames, length, number_of_frames_wanted):\n",
    "    difference = length - number_of_frames_wanted\n",
    "    half_of_frames_to_delete = difference // 2\n",
    "    difference = difference - half_of_frames_to_delete\n",
    "\n",
    "    return frames[half_of_frames_to_delete: length - difference]"
   ]
  },
  {
   "cell_type": "code",
   "execution_count": 2,
   "id": "bfe7b7ff",
   "metadata": {
    "collapsed": false,
    "jupyter": {
     "outputs_hidden": false
    },
    "pycharm": {
     "name": "#%%\n"
    }
   },
   "outputs": [],
   "source": [
    "class VideoDataSet(Dataset):\n",
    "    def __init__(self, all_video_file, transformers, how_many_frames):\n",
    "        # This maps csv which has file path and label to numpy arrray\n",
    "        self.videos = np.genfromtxt(all_video_file, delimiter=\",\", dtype=np.unicode_)\n",
    "        self.transformers = transformers\n",
    "        self.how_many_frames = how_many_frames\n",
    "        self.video_labels = {\"passes\": 0, \"shots\": 1, \"saves\": 2}\n",
    "\n",
    "    def __len__(self):\n",
    "        return len(self.videos)\n",
    "\n",
    "    def __getitem__(self, idx):\n",
    "        movie, label = self.videos[idx]\n",
    "        frames, length = get_frames(movie)\n",
    "        frames = _cut_frames(frames, length, self.how_many_frames)\n",
    "        frames_torch = []\n",
    "\n",
    "        for frame in frames:\n",
    "            image = Image.fromarray(frame, \"RGB\")\n",
    "            frame = self.transformers(image)\n",
    "            frames_torch.append(frame)\n",
    "        return torch.stack(frames_torch, dim=1), self.video_labels.get(label)\n"
   ]
  },
  {
   "cell_type": "code",
   "execution_count": 3,
   "id": "ea939d7c",
   "metadata": {
    "collapsed": false,
    "jupyter": {
     "outputs_hidden": false
    },
    "pycharm": {
     "name": "#%%\n"
    }
   },
   "outputs": [],
   "source": [
    "data_transform = transforms.Compose([\n",
    "    transforms.Resize((170, 170)),\n",
    "    transforms.ToTensor(),\n",
    "    transforms.Normalize(mean=[0.485, 0.456, 0.406],\n",
    "                         std=[0.229, 0.224, 0.225]),\n",
    "])"
   ]
  },
  {
   "cell_type": "code",
   "execution_count": 4,
   "outputs": [
    {
     "data": {
      "text/plain": "torch.Size([1, 3, 12, 256, 256])"
     },
     "execution_count": 4,
     "metadata": {},
     "output_type": "execute_result"
    }
   ],
   "source": [
    "dataset = VideoDataSet(\"data/videos.csv\", data_transform, 12)\n",
    "sample = dataset[0][0]\n",
    "sample = sample.unsqueeze(0)\n",
    "sample.shape"
   ],
   "metadata": {
    "collapsed": false,
    "pycharm": {
     "name": "#%%\n"
    }
   }
  },
  {
   "cell_type": "code",
   "execution_count": 40,
   "outputs": [],
   "source": [
    "def create_convolution_layer(in_channel, out_channels, kernel_size, ):\n",
    "    return nn.Sequential(\n",
    "        nn.Conv3d(in_channel, out_channels, kernel_size=(3, 3, 3), padding=(2, 2, 2), stride=(1, 1, 1)),\n",
    "        nn.LeakyReLU(inplace=True),\n",
    "        nn.MaxPool3d((3, 3, 3)))\n",
    "\n",
    "\n",
    "model = create_convolution_layer()\n",
    "second_layer = nn.Sequential(\n",
    "    nn.Conv3d(32, 64, kernel_size=(4, 4, 4), padding=(2, 2, 2), stride=(2, 2, 2)),\n",
    "    nn.LeakyReLU(inplace=True),\n",
    "    nn.MaxPool3d((2, 2, 2)))\n",
    "fc1  = nn.Linear(30976, 50000)\n",
    "fc2  = nn.Linear(50000, 15000)\n",
    "\n",
    "drop=nn.Dropout(p=0.15)"
   ],
   "metadata": {
    "collapsed": false,
    "pycharm": {
     "name": "#%%\n"
    }
   }
  },
  {
   "cell_type": "code",
   "execution_count": 45,
   "outputs": [
    {
     "data": {
      "text/plain": "tensor([[-1.0549, -1.1430, -1.0999]], grad_fn=<LogSoftmaxBackward0>)"
     },
     "execution_count": 45,
     "metadata": {},
     "output_type": "execute_result"
    }
   ],
   "source": [
    "x = model(sample)\n",
    "x = second_layer(x)\n",
    "x = x.view(x.size(0), -1)\n",
    "x = fc1(x)\n",
    "x = fc2(x)\n",
    "x = drop(x)\n",
    "x = F.log_softmax(x, dim=-1)\n",
    "\n",
    "x"
   ],
   "metadata": {
    "collapsed": false,
    "pycharm": {
     "name": "#%%\n"
    }
   }
  }
 ],
 "metadata": {
  "kernelspec": {
   "display_name": "Python 3 (ipykernel)",
   "language": "python",
   "name": "python3"
  },
  "language_info": {
   "codemirror_mode": {
    "name": "ipython",
    "version": 3
   },
   "file_extension": ".py",
   "mimetype": "text/x-python",
   "name": "python",
   "nbconvert_exporter": "python",
   "pygments_lexer": "ipython3",
   "version": "3.8.8"
  }
 },
 "nbformat": 4,
 "nbformat_minor": 5
}