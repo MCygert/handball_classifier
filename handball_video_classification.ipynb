{
  "nbformat": 4,
  "nbformat_minor": 0,
  "metadata": {
    "colab": {
      "name": "handball_video_classification.ipynb",
      "provenance": [],
      "mount_file_id": "1eqyc_0FDaJneqC08vk_vAQndpJy1YGtx",
      "authorship_tag": "ABX9TyNARJLEJK98phagVR4nbdy3",
      "include_colab_link": true
    },
    "kernelspec": {
      "name": "python3",
      "display_name": "Python 3"
    },
    "language_info": {
      "name": "python"
    },
    "accelerator": "GPU"
  },
  "cells": [
    {
      "cell_type": "markdown",
      "metadata": {
        "id": "view-in-github",
        "colab_type": "text"
      },
      "source": [
        "<a href=\"https://colab.research.google.com/github/MCygert/handball_classifier/blob/main/handball_video_classification.ipynb\" target=\"_parent\"><img src=\"https://colab.research.google.com/assets/colab-badge.svg\" alt=\"Open In Colab\"/></a>"
      ]
    },
    {
      "cell_type": "markdown",
      "source": [
        "# Project made for classifing actions in handball\n"
      ],
      "metadata": {
        "id": "YYEjbGTVvvku"
      }
    },
    {
      "cell_type": "markdown",
      "source": [
        "## Loading data"
      ],
      "metadata": {
        "id": "AzSU95yRwAsH"
      }
    },
    {
      "cell_type": "code",
      "source": [
        "!ls"
      ],
      "metadata": {
        "colab": {
          "base_uri": "https://localhost:8080/"
        },
        "id": "kDwlSEbGwCy3",
        "outputId": "a9e454d4-4f20-407e-9976-9d4c8dec6e43"
      },
      "execution_count": 4,
      "outputs": [
        {
          "output_type": "stream",
          "name": "stdout",
          "text": [
            "drive  sample_data\n"
          ]
        }
      ]
    },
    {
      "cell_type": "code",
      "source": [
        "directory_to_data = \"drive/MyDrive/handball\"\n",
        "!ls drive/MyDrive/handball"
      ],
      "metadata": {
        "colab": {
          "base_uri": "https://localhost:8080/"
        },
        "id": "pc-k5JT2wcHT",
        "outputId": "70c5bf99-625f-4b12-c488-1e75a7238e2d"
      },
      "execution_count": 5,
      "outputs": [
        {
          "output_type": "stream",
          "name": "stdout",
          "text": [
            "passes\tsaves  shots\n"
          ]
        }
      ]
    },
    {
      "cell_type": "markdown",
      "source": [
        "## 1. We need to split data 80/20 into folders\n"
      ],
      "metadata": {
        "id": "c3NeWlsU0Obn"
      }
    },
    {
      "cell_type": "code",
      "source": [
        "import os\n",
        "import shutil\n",
        "\n",
        "# Create folders for test and train data\n",
        "os.mkdir('test')\n",
        "os.mkdir('train')\n",
        "\n",
        "# Creating subfolders per class in both folders\n",
        "directories = []\n",
        "for dirname, dirpath, filename in os.walk(directory_to_data):\n",
        "  directories.append(dirpath)\n",
        "directories = directories[0]\n",
        "\n",
        "for directory in directories:\n",
        "  os.mkdir(f'test/{directory}')\n",
        "  os.mkdir(f'train/{directory}')"
      ],
      "metadata": {
        "id": "3KKn67Xw1CQR"
      },
      "execution_count": 6,
      "outputs": []
    },
    {
      "cell_type": "code",
      "source": [
        "files = []\n",
        "sorted_by_classes = {}\n",
        "for dirname, dirpath, filename in os.walk(directory_to_data):\n",
        "  files.append(filename)\n",
        "files = files[1:]\n",
        "# Create dictionary which has{class: list_of_videos}\n",
        "for i, dictionary in enumerate(directories):\n",
        "  sorted_by_classes[dictionary] = files[i]  \n"
      ],
      "metadata": {
        "id": "gJrOduzyScnI"
      },
      "execution_count": 7,
      "outputs": []
    },
    {
      "cell_type": "code",
      "source": [
        "import random\n",
        "def split_data(data):\n",
        "  '''\n",
        "  Returning 2 lists which are splitted in 10/90 manner \n",
        "  '''\n",
        "  train_data = data.copy()\n",
        "  test_data = []\n",
        "  for i in range(round(len(data) / 10)):\n",
        "    test_data.append(train_data.pop(random.randrange(len(train_data))))\n",
        "  return train_data, test_data"
      ],
      "metadata": {
        "id": "HkB6ffnvl9Uh"
      },
      "execution_count": 8,
      "outputs": []
    },
    {
      "cell_type": "code",
      "source": [
        "train_data, test_data = split_data(sorted_by_classes['saves'])\n",
        "\n",
        "# Check if it's splitting correctly\n",
        "len(train_data), len(test_data), len(sorted_by_classes['saves'])"
      ],
      "metadata": {
        "colab": {
          "base_uri": "https://localhost:8080/"
        },
        "id": "M5E2ueKUoPOL",
        "outputId": "90efbb7f-9885-4d84-be22-639bc0abe3f7"
      },
      "execution_count": 9,
      "outputs": [
        {
          "output_type": "execute_result",
          "data": {
            "text/plain": [
              "(49, 5, 54)"
            ]
          },
          "metadata": {},
          "execution_count": 9
        }
      ]
    },
    {
      "cell_type": "code",
      "source": [
        "# Create splitted data\n",
        "train_elements = {}\n",
        "test_elements = {}\n",
        "for key in sorted_by_classes.items():\n",
        "  class_of_video = key[0]\n",
        "  train, test = split_data(key[1])\n",
        "  train_elements[class_of_video] = train\n",
        "  test_elements[class_of_video] = test\n",
        "test_elements['saves'], test_elements['passes'], test_elements['shots']"
      ],
      "metadata": {
        "colab": {
          "base_uri": "https://localhost:8080/"
        },
        "id": "MxDMbQw4qR2J",
        "outputId": "4143764c-e546-42b5-be2f-7a9c382b30b8"
      },
      "execution_count": 10,
      "outputs": [
        {
          "output_type": "execute_result",
          "data": {
            "text/plain": [
              "(['save54.mp4', 'save29.mp4', 'save47.mp4', 'save43.mp4', 'save11.mp4'],\n",
              " ['pass71.mp4',\n",
              "  'pass152.mp4',\n",
              "  'pass303.mp4',\n",
              "  'pass10.mp4',\n",
              "  'pass122.mp4',\n",
              "  'pass274.mp4',\n",
              "  'pass283.mp4',\n",
              "  'pass160.mp4',\n",
              "  'pass215.mp4',\n",
              "  'pass149.mp4',\n",
              "  'pass302.mp4',\n",
              "  'pass191.mp4',\n",
              "  'pass61.mp4',\n",
              "  'pass81.mp4',\n",
              "  'pass69.mp4',\n",
              "  'pass154.mp4',\n",
              "  'pass228.mp4',\n",
              "  'pass6.mp4',\n",
              "  'pass236.mp4',\n",
              "  'pass73.mp4',\n",
              "  'pass342.mp4',\n",
              "  'pass50.mp4',\n",
              "  'pass36.mp4',\n",
              "  'pass107.mp4',\n",
              "  'pass138.mp4',\n",
              "  'pass207.mp4',\n",
              "  'pass33.mp4',\n",
              "  'pass199.mp4',\n",
              "  'pass292.mp4',\n",
              "  'pass328.mp4',\n",
              "  'pass264.mp4',\n",
              "  'pass3.mp4',\n",
              "  'pass48.mp4',\n",
              "  'pass234.mp4',\n",
              "  'pass84.mp4'],\n",
              " ['shot69.mp4',\n",
              "  'shot115.mp4',\n",
              "  'shot52.mp4',\n",
              "  'shot18.mp4',\n",
              "  'shot114.mp4',\n",
              "  'shot39.mp4',\n",
              "  'shots13.mp4',\n",
              "  'shot46.mp4',\n",
              "  'shot35.mp4',\n",
              "  'shot63.mp4',\n",
              "  'shot77.mp4',\n",
              "  'shot97.mp4',\n",
              "  'shot37.mp4',\n",
              "  'shot6.mp4',\n",
              "  'shot12 - SD 480p.mov'])"
            ]
          },
          "metadata": {},
          "execution_count": 10
        }
      ]
    },
    {
      "cell_type": "code",
      "source": [
        "def move_files_to_correct_directories(data_dictionary, type_of_data):\n",
        "  for key in data_dictionary.items():\n",
        "    for file_name in key[1]:\n",
        "      shutil.copy(directory_to_data + '/' + key[0] + '/' + file_name, type_of_data + '/' + key[0] + '/' + file_name)"
      ],
      "metadata": {
        "id": "tPny7nlosteo"
      },
      "execution_count": 11,
      "outputs": []
    },
    {
      "cell_type": "code",
      "source": [
        "# Moving files into correct folders\n",
        "move_files_to_correct_directories(train_elements, 'train')\n",
        "move_files_to_correct_directories(test_elements, 'test')"
      ],
      "metadata": {
        "id": "0k1IbMBouFpX"
      },
      "execution_count": 12,
      "outputs": []
    },
    {
      "cell_type": "markdown",
      "source": [
        "## 2. Extract jpegs of videos\n",
        "Later I can extract frames and save them as jpegs from video and move them to folder. After that get features with CNN it could save a lot of time while processing the data. Because it will go straight to RNN layers \n"
      ],
      "metadata": {
        "id": "vMKHHqqG0ihW"
      }
    },
    {
      "cell_type": "markdown",
      "source": [
        "## 3. Create csv \n",
        "Which will have  **label,path** structure per train and test directory\n"
      ],
      "metadata": {
        "id": "v3cOzyas0o-r"
      }
    },
    {
      "cell_type": "code",
      "source": [
        "test_files = {}\n",
        "for dirname, dirpath, filename in os.walk(\"test\"):\n",
        "  print(dirname)\n",
        "  test_files[dirname] = filename\n",
        "test_files.pop('test')\n",
        "for key in test_files:\n",
        "  print(key)\n",
        "  test_files[key.split('/')[1]] = test_files.pop(key)\n",
        "\n",
        "print(test_files.keys()) "
      ],
      "metadata": {
        "id": "JcC6MCse0wKb",
        "colab": {
          "base_uri": "https://localhost:8080/"
        },
        "outputId": "43a9fc4e-a75c-47cf-d3d5-6ea2f2ec068c"
      },
      "execution_count": 13,
      "outputs": [
        {
          "output_type": "stream",
          "name": "stdout",
          "text": [
            "test\n",
            "test/shots\n",
            "test/saves\n",
            "test/passes\n",
            "test/shots\n",
            "test/saves\n",
            "dict_keys(['test/passes', 'shots', 'saves'])\n"
          ]
        }
      ]
    },
    {
      "cell_type": "code",
      "source": [
        "def get_files_path(path):\n",
        "  list_of_paths = []\n",
        "  for root, dirs, files in os.walk(\"train/\" + path):\n",
        "    for filename in files:\n",
        "      list_of_paths.append(root + '/' + filename)\n",
        "  return list_of_paths"
      ],
      "metadata": {
        "id": "aA9KvpR8tCs2"
      },
      "execution_count": 14,
      "outputs": []
    },
    {
      "cell_type": "code",
      "source": [
        "# Trying to create correct label\n",
        "import pandas as pd\n",
        "map_for_paths = {\"shots\": get_files_path('shots'),\n",
        "                 'saves': get_files_path('saves'),\n",
        "                 'passes': get_files_path('passes')}\n",
        "\n",
        "list_of_tuples_for_data_frame = []\n",
        "shots = map_for_paths['shots']\n",
        "saves = map_for_paths['saves']\n",
        "passes = map_for_paths['passes']\n",
        "for path in shots:\n",
        "  list_of_tuples_for_data_frame.append(('shots', path))\n",
        "for path in saves:\n",
        "  list_of_tuples_for_data_frame.append(('saves', path))\n",
        "for path in passes:\n",
        "  list_of_tuples_for_data_frame.append(('passes', path))\n",
        "list_of_tuples_for_data_frame[:5]\n",
        "df = pd.DataFrame(list_of_tuples_for_data_frame, columns=['Tag', 'Path'])  \n",
        "df.shape"
      ],
      "metadata": {
        "colab": {
          "base_uri": "https://localhost:8080/"
        },
        "id": "6sKgX64Zf3h1",
        "outputId": "7bf05fcd-117e-4a61-a77c-f56996c861f5"
      },
      "execution_count": 20,
      "outputs": [
        {
          "output_type": "execute_result",
          "data": {
            "text/plain": [
              "(500, 2)"
            ]
          },
          "metadata": {},
          "execution_count": 20
        }
      ]
    },
    {
      "cell_type": "markdown",
      "source": [
        "# Create models for training"
      ],
      "metadata": {
        "id": "O3ctDkDEbkc1"
      }
    },
    {
      "cell_type": "markdown",
      "source": [
        "##1. Create data loader"
      ],
      "metadata": {
        "id": "AkHevgZObo4k"
      }
    },
    {
      "cell_type": "markdown",
      "source": [
        "##2. Create feature extractor with pre-trained model"
      ],
      "metadata": {
        "id": "ioo_71E3bpiJ"
      }
    },
    {
      "cell_type": "markdown",
      "source": [
        "##3. Feed extracted features to rnn model"
      ],
      "metadata": {
        "id": "_fyHtl5nbv4T"
      }
    }
  ]
}