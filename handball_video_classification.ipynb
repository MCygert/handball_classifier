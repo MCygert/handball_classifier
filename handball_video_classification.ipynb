{
  "nbformat": 4,
  "nbformat_minor": 0,
  "metadata": {
    "colab": {
      "name": "handball_video_classification.ipynb",
      "provenance": [],
      "mount_file_id": "1eqyc_0FDaJneqC08vk_vAQndpJy1YGtx",
      "authorship_tag": "ABX9TyOZNZiggkKlZ4tuV3VDdN9U",
      "include_colab_link": true
    },
    "kernelspec": {
      "name": "python3",
      "display_name": "Python 3"
    },
    "language_info": {
      "name": "python"
    },
    "accelerator": "GPU"
  },
  "cells": [
    {
      "cell_type": "markdown",
      "metadata": {
        "id": "view-in-github",
        "colab_type": "text"
      },
      "source": [
        "<a href=\"https://colab.research.google.com/github/MCygert/handball_classifier/blob/main/handball_video_classification.ipynb\" target=\"_parent\"><img src=\"https://colab.research.google.com/assets/colab-badge.svg\" alt=\"Open In Colab\"/></a>"
      ]
    },
    {
      "cell_type": "markdown",
      "source": [
        "# Project made for classifing actions in handball\n"
      ],
      "metadata": {
        "id": "YYEjbGTVvvku"
      }
    },
    {
      "cell_type": "markdown",
      "source": [
        "## Loading data"
      ],
      "metadata": {
        "id": "AzSU95yRwAsH"
      }
    },
    {
      "cell_type": "code",
      "source": [
        "!ls"
      ],
      "metadata": {
        "colab": {
          "base_uri": "https://localhost:8080/"
        },
        "id": "kDwlSEbGwCy3",
        "outputId": "30527c95-ad58-41b9-dbef-9c7dc3e2372a"
      },
      "execution_count": null,
      "outputs": [
        {
          "output_type": "stream",
          "name": "stdout",
          "text": [
            "drive  sample_data\n"
          ]
        }
      ]
    },
    {
      "cell_type": "code",
      "source": [
        "directory_to_data = \"drive/MyDrive/handball\"\n",
        "!ls drive/MyDrive/handball"
      ],
      "metadata": {
        "colab": {
          "base_uri": "https://localhost:8080/"
        },
        "id": "pc-k5JT2wcHT",
        "outputId": "2e388dfd-6b58-40a7-d1a7-02d01285a6b5"
      },
      "execution_count": null,
      "outputs": [
        {
          "output_type": "stream",
          "name": "stdout",
          "text": [
            "passes\tsaves  shots\n"
          ]
        }
      ]
    },
    {
      "cell_type": "markdown",
      "source": [
        "## 1. We need to split data 80/20 into folders\n"
      ],
      "metadata": {
        "id": "c3NeWlsU0Obn"
      }
    },
    {
      "cell_type": "code",
      "source": [
        "import os\n",
        "import shutil\n",
        "\n",
        "# Create folders for test and train data\n",
        "os.mkdir('test')\n",
        "os.mkdir('train')\n",
        "\n",
        "# Creating subfolders per class in both folders\n",
        "directories = []\n",
        "for dirname, dirpath, filename in os.walk(directory_to_data):\n",
        "  directories.append(dirpath)\n",
        "directories = directories[0]\n",
        "\n",
        "for directory in directories:\n",
        "  os.mkdir(f'test/{directory}')\n",
        "  os.mkdir(f'train/{directory}')"
      ],
      "metadata": {
        "id": "3KKn67Xw1CQR"
      },
      "execution_count": null,
      "outputs": []
    },
    {
      "cell_type": "code",
      "source": [
        "files = []\n",
        "sorted_by_classes = {}\n",
        "for dirname, dirpath, filename in os.walk(directory_to_data):\n",
        "  files.append(filename)\n",
        "files = files[1:]\n",
        "# Create dictionary which has{class: list_of_videos}\n",
        "for i, dictionary in enumerate(directories):\n",
        "  sorted_by_classes[dictionary] = files[i]  \n"
      ],
      "metadata": {
        "id": "gJrOduzyScnI"
      },
      "execution_count": null,
      "outputs": []
    },
    {
      "cell_type": "code",
      "source": [
        "import random\n",
        "def split_data(data):\n",
        "  '''\n",
        "  Returning 2 lists which are splitted in 10/90 manner \n",
        "  '''\n",
        "  train_data = data.copy()\n",
        "  test_data = []\n",
        "  for i in range(round(len(data) / 10)):\n",
        "    test_data.append(train_data.pop(random.randrange(len(train_data))))\n",
        "  return train_data, test_data"
      ],
      "metadata": {
        "id": "HkB6ffnvl9Uh"
      },
      "execution_count": null,
      "outputs": []
    },
    {
      "cell_type": "code",
      "source": [
        "train_data, test_data = split_data(sorted_by_classes['saves'])\n",
        "\n",
        "# Check if it's splitting correctly\n",
        "len(train_data), len(test_data), len(sorted_by_classes['saves'])"
      ],
      "metadata": {
        "colab": {
          "base_uri": "https://localhost:8080/"
        },
        "id": "M5E2ueKUoPOL",
        "outputId": "b09e049e-b697-4cf3-fef4-9128a3cc2271"
      },
      "execution_count": null,
      "outputs": [
        {
          "output_type": "execute_result",
          "data": {
            "text/plain": [
              "(49, 5, 54)"
            ]
          },
          "metadata": {},
          "execution_count": 6
        }
      ]
    },
    {
      "cell_type": "code",
      "source": [
        "# Create splitted data\n",
        "train_elements = {}\n",
        "test_elements = {}\n",
        "for key in sorted_by_classes.items():\n",
        "  class_of_video = key[0]\n",
        "  train, test = split_data(key[1])\n",
        "  train_elements[class_of_video] = train\n",
        "  test_elements[class_of_video] = test\n",
        "test_elements['saves'], test_elements['passes'], test_elements['shots']"
      ],
      "metadata": {
        "colab": {
          "base_uri": "https://localhost:8080/"
        },
        "id": "MxDMbQw4qR2J",
        "outputId": "dd89e2bf-6cc0-40ad-be70-fea4418f105b"
      },
      "execution_count": null,
      "outputs": [
        {
          "output_type": "execute_result",
          "data": {
            "text/plain": [
              "(['save35.mp4', 'save11.mp4', 'save10.mp4', 'save6.mp4', 'save44.mp4'],\n",
              " ['pass86.mp4',\n",
              "  'pass70.mp4',\n",
              "  'pass339.mp4',\n",
              "  'pass216.mp4',\n",
              "  'pass183.mp4',\n",
              "  'pass177.mp4',\n",
              "  'pass29.mp4',\n",
              "  'pass49.mp4',\n",
              "  'pass148.mp4',\n",
              "  'pass46.mp4',\n",
              "  'pass237.mp4',\n",
              "  '134.mp4',\n",
              "  'pass142.mp4',\n",
              "  'pass144.mp4',\n",
              "  'pass288.mp4',\n",
              "  'pass206.mp4',\n",
              "  'pass118.mp4',\n",
              "  'pass89.mp4',\n",
              "  'pass8.mp4',\n",
              "  'pass332.mp4',\n",
              "  'pass114.mp4',\n",
              "  'pass44.mp4',\n",
              "  'pass143.mp4',\n",
              "  'pass121.mp4',\n",
              "  'pass222.mp4',\n",
              "  '343.mp4',\n",
              "  'pass120.mp4',\n",
              "  'pass80.mp4',\n",
              "  'pass140.mp4',\n",
              "  'pass232.mp4',\n",
              "  'pass318.mp4',\n",
              "  'pass308.mp4',\n",
              "  'pass302.mp4',\n",
              "  'pass301.mp4',\n",
              "  'pass185.mp4'],\n",
              " ['shto146.mp4',\n",
              "  'shot143.mp4',\n",
              "  'shot114.mp4',\n",
              "  'shot135.mp4',\n",
              "  'shot61.mp4',\n",
              "  'shot22.mp4',\n",
              "  'shot40.mp4',\n",
              "  'shot49.mp4',\n",
              "  'shot125.mp4',\n",
              "  'shot138.mp4',\n",
              "  'shot145.mp4',\n",
              "  'shot50.mp4',\n",
              "  'shot74.mp4',\n",
              "  'shot129.mp4',\n",
              "  'shot68.mp4'])"
            ]
          },
          "metadata": {},
          "execution_count": 7
        }
      ]
    },
    {
      "cell_type": "code",
      "source": [
        "def move_files_to_correct_directories(data_dictionary, type_of_data):\n",
        "  for key in data_dictionary.items():\n",
        "    for file_name in key[1]:\n",
        "      shutil.copy(directory_to_data + '/' + key[0] + '/' + file_name, type_of_data + '/' + key[0] + '/' + file_name)"
      ],
      "metadata": {
        "id": "tPny7nlosteo"
      },
      "execution_count": null,
      "outputs": []
    },
    {
      "cell_type": "code",
      "source": [
        "# Moving files into correct folders\n",
        "move_files_to_correct_directories(train_elements, 'train')\n",
        "move_files_to_correct_directories(test_elements, 'test')"
      ],
      "metadata": {
        "id": "0k1IbMBouFpX"
      },
      "execution_count": null,
      "outputs": []
    },
    {
      "cell_type": "markdown",
      "source": [
        "## 2. Extract jpegs of videos\n",
        "Later I can extract frames and save them as jpegs from video and move them to folder. After that get features with CNN it could save a lot of time while processing the data. Because it will go straight to RNN layers \n"
      ],
      "metadata": {
        "id": "vMKHHqqG0ihW"
      }
    },
    {
      "cell_type": "markdown",
      "source": [
        "## 3. Create csv \n",
        "Which will have  **label,path** structure per train and test directory\n"
      ],
      "metadata": {
        "id": "v3cOzyas0o-r"
      }
    },
    {
      "cell_type": "code",
      "source": [
        "test_files = {}\n",
        "for dirname, dirpath, filename in os.walk(\"test\"):\n",
        "  print(dirname)\n",
        "  test_files[dirname] = filename\n",
        "test_files.pop('test')\n",
        "for key in test_files:\n",
        "  print(key)\n",
        "  test_files[key.split('/')[1]] = test_files.pop(key)\n",
        "\n",
        "print(test_files.keys()) "
      ],
      "metadata": {
        "id": "JcC6MCse0wKb",
        "colab": {
          "base_uri": "https://localhost:8080/"
        },
        "outputId": "7ae6015c-4a38-411d-e382-657694d13b01"
      },
      "execution_count": null,
      "outputs": [
        {
          "output_type": "stream",
          "name": "stdout",
          "text": [
            "test\n",
            "test/saves\n",
            "test/passes\n",
            "test/shots\n",
            "test/saves\n",
            "test/passes\n",
            "dict_keys(['test/shots', 'saves', 'passes'])\n"
          ]
        }
      ]
    },
    {
      "cell_type": "code",
      "source": [
        "def get_files_path(path):\n",
        "  list_of_paths = []\n",
        "  for root, dirs, files in os.walk(path):\n",
        "    for filename in files:\n",
        "      list_of_paths.append(root + '/' + filename)\n",
        "  return list_of_paths"
      ],
      "metadata": {
        "id": "aA9KvpR8tCs2"
      },
      "execution_count": null,
      "outputs": []
    },
    {
      "cell_type": "code",
      "source": [
        "# Trying to create correct label\n",
        "import pandas as pd\n",
        "def create_data_frame(path):\n",
        "  path_shots = path + 'shots'\n",
        "  map_for_paths = {'shots': get_files_path(path_shots),\n",
        "                 'saves': get_files_path(path + 'saves'),\n",
        "                 'passes': get_files_path(path + 'passes')}\n",
        "  list_of_tuples_for_data_frame = []\n",
        "  shots = map_for_paths['shots']\n",
        "  saves = map_for_paths['saves']\n",
        "  passes = map_for_paths['passes']\n",
        "  for path in shots:\n",
        "    list_of_tuples_for_data_frame.append(('shots', path))\n",
        "  for path in saves:\n",
        "    list_of_tuples_for_data_frame.append(('saves', path))\n",
        "  for path in passes:\n",
        "    list_of_tuples_for_data_frame.append(('passes', path))\n",
        "  return pd.DataFrame(list_of_tuples_for_data_frame, columns=['Tag', 'Path'])  \n"
      ],
      "metadata": {
        "id": "6sKgX64Zf3h1"
      },
      "execution_count": null,
      "outputs": []
    },
    {
      "cell_type": "code",
      "source": [
        "train_df = create_data_frame('train/')\n",
        "test_df = create_data_frame('test/')\n",
        "\n",
        "train_df.head()"
      ],
      "metadata": {
        "colab": {
          "base_uri": "https://localhost:8080/",
          "height": 206
        },
        "id": "nTyS2rS8puZ3",
        "outputId": "7a9a2133-f834-4eb6-e3c4-0035195ce8e4"
      },
      "execution_count": null,
      "outputs": [
        {
          "output_type": "execute_result",
          "data": {
            "text/html": [
              "\n",
              "  <div id=\"df-d0f67b9d-6f74-48ed-ab74-237662b8a437\">\n",
              "    <div class=\"colab-df-container\">\n",
              "      <div>\n",
              "<style scoped>\n",
              "    .dataframe tbody tr th:only-of-type {\n",
              "        vertical-align: middle;\n",
              "    }\n",
              "\n",
              "    .dataframe tbody tr th {\n",
              "        vertical-align: top;\n",
              "    }\n",
              "\n",
              "    .dataframe thead th {\n",
              "        text-align: right;\n",
              "    }\n",
              "</style>\n",
              "<table border=\"1\" class=\"dataframe\">\n",
              "  <thead>\n",
              "    <tr style=\"text-align: right;\">\n",
              "      <th></th>\n",
              "      <th>Tag</th>\n",
              "      <th>Path</th>\n",
              "    </tr>\n",
              "  </thead>\n",
              "  <tbody>\n",
              "    <tr>\n",
              "      <th>0</th>\n",
              "      <td>shots</td>\n",
              "      <td>train/shots/shot95.mp4</td>\n",
              "    </tr>\n",
              "    <tr>\n",
              "      <th>1</th>\n",
              "      <td>shots</td>\n",
              "      <td>train/shots/shot62.mp4</td>\n",
              "    </tr>\n",
              "    <tr>\n",
              "      <th>2</th>\n",
              "      <td>shots</td>\n",
              "      <td>train/shots/shot6.mp4</td>\n",
              "    </tr>\n",
              "    <tr>\n",
              "      <th>3</th>\n",
              "      <td>shots</td>\n",
              "      <td>train/shots/shot120.mp4</td>\n",
              "    </tr>\n",
              "    <tr>\n",
              "      <th>4</th>\n",
              "      <td>shots</td>\n",
              "      <td>train/shots/shot56.mp4</td>\n",
              "    </tr>\n",
              "  </tbody>\n",
              "</table>\n",
              "</div>\n",
              "      <button class=\"colab-df-convert\" onclick=\"convertToInteractive('df-d0f67b9d-6f74-48ed-ab74-237662b8a437')\"\n",
              "              title=\"Convert this dataframe to an interactive table.\"\n",
              "              style=\"display:none;\">\n",
              "        \n",
              "  <svg xmlns=\"http://www.w3.org/2000/svg\" height=\"24px\"viewBox=\"0 0 24 24\"\n",
              "       width=\"24px\">\n",
              "    <path d=\"M0 0h24v24H0V0z\" fill=\"none\"/>\n",
              "    <path d=\"M18.56 5.44l.94 2.06.94-2.06 2.06-.94-2.06-.94-.94-2.06-.94 2.06-2.06.94zm-11 1L8.5 8.5l.94-2.06 2.06-.94-2.06-.94L8.5 2.5l-.94 2.06-2.06.94zm10 10l.94 2.06.94-2.06 2.06-.94-2.06-.94-.94-2.06-.94 2.06-2.06.94z\"/><path d=\"M17.41 7.96l-1.37-1.37c-.4-.4-.92-.59-1.43-.59-.52 0-1.04.2-1.43.59L10.3 9.45l-7.72 7.72c-.78.78-.78 2.05 0 2.83L4 21.41c.39.39.9.59 1.41.59.51 0 1.02-.2 1.41-.59l7.78-7.78 2.81-2.81c.8-.78.8-2.07 0-2.86zM5.41 20L4 18.59l7.72-7.72 1.47 1.35L5.41 20z\"/>\n",
              "  </svg>\n",
              "      </button>\n",
              "      \n",
              "  <style>\n",
              "    .colab-df-container {\n",
              "      display:flex;\n",
              "      flex-wrap:wrap;\n",
              "      gap: 12px;\n",
              "    }\n",
              "\n",
              "    .colab-df-convert {\n",
              "      background-color: #E8F0FE;\n",
              "      border: none;\n",
              "      border-radius: 50%;\n",
              "      cursor: pointer;\n",
              "      display: none;\n",
              "      fill: #1967D2;\n",
              "      height: 32px;\n",
              "      padding: 0 0 0 0;\n",
              "      width: 32px;\n",
              "    }\n",
              "\n",
              "    .colab-df-convert:hover {\n",
              "      background-color: #E2EBFA;\n",
              "      box-shadow: 0px 1px 2px rgba(60, 64, 67, 0.3), 0px 1px 3px 1px rgba(60, 64, 67, 0.15);\n",
              "      fill: #174EA6;\n",
              "    }\n",
              "\n",
              "    [theme=dark] .colab-df-convert {\n",
              "      background-color: #3B4455;\n",
              "      fill: #D2E3FC;\n",
              "    }\n",
              "\n",
              "    [theme=dark] .colab-df-convert:hover {\n",
              "      background-color: #434B5C;\n",
              "      box-shadow: 0px 1px 3px 1px rgba(0, 0, 0, 0.15);\n",
              "      filter: drop-shadow(0px 1px 2px rgba(0, 0, 0, 0.3));\n",
              "      fill: #FFFFFF;\n",
              "    }\n",
              "  </style>\n",
              "\n",
              "      <script>\n",
              "        const buttonEl =\n",
              "          document.querySelector('#df-d0f67b9d-6f74-48ed-ab74-237662b8a437 button.colab-df-convert');\n",
              "        buttonEl.style.display =\n",
              "          google.colab.kernel.accessAllowed ? 'block' : 'none';\n",
              "\n",
              "        async function convertToInteractive(key) {\n",
              "          const element = document.querySelector('#df-d0f67b9d-6f74-48ed-ab74-237662b8a437');\n",
              "          const dataTable =\n",
              "            await google.colab.kernel.invokeFunction('convertToInteractive',\n",
              "                                                     [key], {});\n",
              "          if (!dataTable) return;\n",
              "\n",
              "          const docLinkHtml = 'Like what you see? Visit the ' +\n",
              "            '<a target=\"_blank\" href=https://colab.research.google.com/notebooks/data_table.ipynb>data table notebook</a>'\n",
              "            + ' to learn more about interactive tables.';\n",
              "          element.innerHTML = '';\n",
              "          dataTable['output_type'] = 'display_data';\n",
              "          await google.colab.output.renderOutput(dataTable, element);\n",
              "          const docLink = document.createElement('div');\n",
              "          docLink.innerHTML = docLinkHtml;\n",
              "          element.appendChild(docLink);\n",
              "        }\n",
              "      </script>\n",
              "    </div>\n",
              "  </div>\n",
              "  "
            ],
            "text/plain": [
              "     Tag                     Path\n",
              "0  shots   train/shots/shot95.mp4\n",
              "1  shots   train/shots/shot62.mp4\n",
              "2  shots    train/shots/shot6.mp4\n",
              "3  shots  train/shots/shot120.mp4\n",
              "4  shots   train/shots/shot56.mp4"
            ]
          },
          "metadata": {},
          "execution_count": 13
        }
      ]
    },
    {
      "cell_type": "markdown",
      "source": [
        "## Minor EDA"
      ],
      "metadata": {
        "id": "JmzC02Drqy7R"
      }
    },
    {
      "cell_type": "code",
      "source": [
        "train_df.shape, test_df.shape"
      ],
      "metadata": {
        "colab": {
          "base_uri": "https://localhost:8080/"
        },
        "id": "jiv5u6MPr0UK",
        "outputId": "6b04e05d-d134-412d-ceed-3da9861a1fdc"
      },
      "execution_count": null,
      "outputs": [
        {
          "output_type": "execute_result",
          "data": {
            "text/plain": [
              "((500, 2), (55, 2))"
            ]
          },
          "metadata": {},
          "execution_count": 14
        }
      ]
    },
    {
      "cell_type": "code",
      "source": [
        "train_df['Tag'].value_counts()"
      ],
      "metadata": {
        "colab": {
          "base_uri": "https://localhost:8080/"
        },
        "id": "C-mMiePIr8gN",
        "outputId": "608c95dd-9369-4609-ab11-c63de8a817a9"
      },
      "execution_count": null,
      "outputs": [
        {
          "output_type": "execute_result",
          "data": {
            "text/plain": [
              "passes    315\n",
              "shots     136\n",
              "saves      49\n",
              "Name: Tag, dtype: int64"
            ]
          },
          "metadata": {},
          "execution_count": 15
        }
      ]
    },
    {
      "cell_type": "code",
      "source": [
        "train_df['Tag'].value_counts(normalize=True)"
      ],
      "metadata": {
        "colab": {
          "base_uri": "https://localhost:8080/"
        },
        "id": "400FclNsskEc",
        "outputId": "d40af45c-53d7-400b-bff2-726b62fab0ff"
      },
      "execution_count": null,
      "outputs": [
        {
          "output_type": "execute_result",
          "data": {
            "text/plain": [
              "passes    0.630\n",
              "shots     0.272\n",
              "saves     0.098\n",
              "Name: Tag, dtype: float64"
            ]
          },
          "metadata": {},
          "execution_count": 16
        }
      ]
    },
    {
      "cell_type": "code",
      "source": [
        "test_df['Tag'].value_counts()"
      ],
      "metadata": {
        "colab": {
          "base_uri": "https://localhost:8080/"
        },
        "id": "smE37OBUsPnM",
        "outputId": "d9609603-7a4c-43ba-e642-8fd1b307df15"
      },
      "execution_count": null,
      "outputs": [
        {
          "output_type": "execute_result",
          "data": {
            "text/plain": [
              "passes    35\n",
              "shots     15\n",
              "saves      5\n",
              "Name: Tag, dtype: int64"
            ]
          },
          "metadata": {},
          "execution_count": 17
        }
      ]
    },
    {
      "cell_type": "code",
      "source": [
        "test_df['Tag'].value_counts(normalize=True)"
      ],
      "metadata": {
        "colab": {
          "base_uri": "https://localhost:8080/"
        },
        "id": "tfM7Bx71so9L",
        "outputId": "ad8f6f33-2303-4331-d0e1-210664e5dd68"
      },
      "execution_count": null,
      "outputs": [
        {
          "output_type": "execute_result",
          "data": {
            "text/plain": [
              "passes    0.636364\n",
              "shots     0.272727\n",
              "saves     0.090909\n",
              "Name: Tag, dtype: float64"
            ]
          },
          "metadata": {},
          "execution_count": 18
        }
      ]
    },
    {
      "cell_type": "markdown",
      "source": [
        "### Simple plots for better visualization\n",
        "To be added later"
      ],
      "metadata": {
        "id": "9VQ_0q7Qss-U"
      }
    },
    {
      "cell_type": "markdown",
      "source": [
        "## Pre loading frames from videos"
      ],
      "metadata": {
        "id": "N3_YOMDjuFn5"
      }
    },
    {
      "cell_type": "code",
      "source": [
        "import cv2\n",
        "import numpy as np\n",
        "IMG_SIZE = 224\n",
        "def crop_center_square(frame):\n",
        "  y, x = frame.shape[0:2]\n",
        "  min_dim = min(y, x)\n",
        "  start_x = (x // 2) - (min_dim // 2)\n",
        "  start_y = (y // 2) - (min_dim // 2)\n",
        "  return frame[start_y : start_y + min_dim, start_x : start_x + min_dim]\n",
        "\n",
        "def load_video(path, max_frames=0, resize=(IMG_SIZE, IMG_SIZE)):\n",
        "  cap = cv2.VideoCapture(path)\n",
        "  frames = []\n",
        "  try:\n",
        "    while True:\n",
        "      ret, frame = cap.read()\n",
        "      if not ret:\n",
        "        break\n",
        "      frame = crop_center_square(frame)\n",
        "      frame = cv2.resize(frame, resize)\n",
        "      frame = frame[:, :, [2,1,0]]\n",
        "      frames.append(frame)\n",
        "\n",
        "      if len(frames) == max_frames:\n",
        "        break\n",
        "  finally:\n",
        "    cap.release()\n",
        "  return np.array(frames)"
      ],
      "metadata": {
        "id": "ojf5ZBsZuKjg"
      },
      "execution_count": null,
      "outputs": []
    },
    {
      "cell_type": "markdown",
      "source": [
        "# Create models for training"
      ],
      "metadata": {
        "id": "O3ctDkDEbkc1"
      }
    },
    {
      "cell_type": "markdown",
      "source": [
        "##1. Create data loader"
      ],
      "metadata": {
        "id": "AkHevgZObo4k"
      }
    },
    {
      "cell_type": "markdown",
      "source": [
        "##2. Create feature extractor with pre-trained model"
      ],
      "metadata": {
        "id": "ioo_71E3bpiJ"
      }
    },
    {
      "cell_type": "code",
      "source": [
        "from tensorflow.keras import layers\n",
        "from tensorflow import keras\n",
        "import tensorflow as tf\n",
        "\n",
        "feature_extractor = tf.keras.applications.InceptionV3(\n",
        "    include_top = False,\n",
        "    weights = 'imagenet',\n",
        "    input_shape = (IMG_SIZE,IMG_SIZE,3),\n",
        "    pooling = 'avg'\n",
        ")\n",
        "preprocess_input = keras.applications.inception_v3.preprocess_input\n",
        "\n",
        "inputs = keras.Input((IMG_SIZE, IMG_SIZE, 3))\n",
        "preprocessed = preprocess_input(inputs)\n",
        "\n",
        "outputs = feature_extractor(preprocessed)\n",
        "feature_extractor_model = keras.Model(inputs, outputs, 'feature_extractor')\n",
        "\n",
        "\n"
      ],
      "metadata": {
        "colab": {
          "base_uri": "https://localhost:8080/"
        },
        "id": "KbQAYLTMv923",
        "outputId": "22ec29d8-50e1-4788-eac1-4fac18dfb3a4"
      },
      "execution_count": null,
      "outputs": [
        {
          "output_type": "stream",
          "name": "stdout",
          "text": [
            "Downloading data from https://storage.googleapis.com/tensorflow/keras-applications/inception_v3/inception_v3_weights_tf_dim_ordering_tf_kernels_notop.h5\n",
            "87916544/87910968 [==============================] - 1s 0us/step\n",
            "87924736/87910968 [==============================] - 1s 0us/step\n"
          ]
        }
      ]
    },
    {
      "cell_type": "code",
      "source": [
        "numpy_video = load_video('train/passes/pass105.mp4', max_frames=15)\n",
        "feature_extractor.apply(np.expand_dims(numpy_video[4], axis=0))"
      ],
      "metadata": {
        "colab": {
          "base_uri": "https://localhost:8080/"
        },
        "id": "S8gMdC1DyMQY",
        "outputId": "1878850d-f08f-4ba7-fa1f-3d3f6d4c6987"
      },
      "execution_count": null,
      "outputs": [
        {
          "output_type": "stream",
          "name": "stderr",
          "text": [
            "/usr/local/lib/python3.7/dist-packages/ipykernel_launcher.py:2: UserWarning: `layer.apply` is deprecated and will be removed in a future version. Please use `layer.__call__` method instead.\n",
            "  \n"
          ]
        },
        {
          "output_type": "execute_result",
          "data": {
            "text/plain": [
              "<tf.Tensor: shape=(1, 2048), dtype=float32, numpy=\n",
              "array([[0.90981483, 0.03502941, 1.3373344 , ..., 0.        , 0.        ,\n",
              "        0.00425651]], dtype=float32)>"
            ]
          },
          "metadata": {},
          "execution_count": 21
        }
      ]
    },
    {
      "cell_type": "code",
      "source": [
        "label_processor = keras.layers.StringLookup(\n",
        "    num_oov_indices=0, vocabulary=np.unique(train_df[\"Tag\"])\n",
        ")\n",
        "label_processor.get_vocabulary()"
      ],
      "metadata": {
        "colab": {
          "base_uri": "https://localhost:8080/"
        },
        "id": "OMiJh40w0xv6",
        "outputId": "62824477-76a7-4454-c291-8e1f563bb311"
      },
      "execution_count": null,
      "outputs": [
        {
          "output_type": "execute_result",
          "data": {
            "text/plain": [
              "['passes', 'saves', 'shots']"
            ]
          },
          "metadata": {},
          "execution_count": 22
        }
      ]
    },
    {
      "cell_type": "code",
      "source": [
        "!nvidia-smi"
      ],
      "metadata": {
        "colab": {
          "base_uri": "https://localhost:8080/"
        },
        "id": "Au5gs_Pc6EQ6",
        "outputId": "07084198-5547-4ebc-c64e-e1c1b3ed1479"
      },
      "execution_count": null,
      "outputs": [
        {
          "output_type": "stream",
          "name": "stdout",
          "text": [
            "Tue Feb  1 16:38:14 2022       \n",
            "+-----------------------------------------------------------------------------+\n",
            "| NVIDIA-SMI 495.46       Driver Version: 460.32.03    CUDA Version: 11.2     |\n",
            "|-------------------------------+----------------------+----------------------+\n",
            "| GPU  Name        Persistence-M| Bus-Id        Disp.A | Volatile Uncorr. ECC |\n",
            "| Fan  Temp  Perf  Pwr:Usage/Cap|         Memory-Usage | GPU-Util  Compute M. |\n",
            "|                               |                      |               MIG M. |\n",
            "|===============================+======================+======================|\n",
            "|   0  Tesla K80           Off  | 00000000:00:04.0 Off |                    0 |\n",
            "| N/A   53C    P0    78W / 149W |   2313MiB / 11441MiB |      3%      Default |\n",
            "|                               |                      |                  N/A |\n",
            "+-------------------------------+----------------------+----------------------+\n",
            "                                                                               \n",
            "+-----------------------------------------------------------------------------+\n",
            "| Processes:                                                                  |\n",
            "|  GPU   GI   CI        PID   Type   Process name                  GPU Memory |\n",
            "|        ID   ID                                                   Usage      |\n",
            "|=============================================================================|\n",
            "|  No running processes found                                                 |\n",
            "+-----------------------------------------------------------------------------+\n"
          ]
        }
      ]
    },
    {
      "cell_type": "code",
      "source": [
        "%timeit\n",
        "SEQ_NUMBER = 20\n",
        "def prepare_all_videos(df):\n",
        "  num_samples = len(df)\n",
        "  video_paths = df['Path'].values.tolist()\n",
        "  labels = df['Tag'].values\n",
        "  labels = label_processor(labels[..., None]).numpy()\n",
        "\n",
        "\n",
        "  frame_masks = np.zeros(shape=(num_samples, SEQ_NUMBER), dtype='bool')\n",
        "  frame_features = np.zeros(\n",
        "      shape=(num_samples, SEQ_NUMBER, 2048),\n",
        "      dtype='float32'\n",
        "  )\n",
        "  for idx, path in enumerate(video_paths):\n",
        "   frames = load_video(path)\n",
        "   frames = frames[None, ...]\n",
        "\n",
        "   temp_frame_mask = np.zeros(shape=(1, SEQ_NUMBER,), dtype='bool')\n",
        "   temp_frame_features = np.zeros(\n",
        "      shape=(1, 20, 2048),\n",
        "     dtype='float32'\n",
        "  )\n",
        "\n",
        "   for i, batch in enumerate(frames):\n",
        "     video_length = batch.shape[0]\n",
        "     length = min(SEQ_NUMBER, video_length)\n",
        "     for j in range(length):\n",
        "        temp_frame_features[i, j, :] = feature_extractor.predict(\n",
        "                     batch[None, j, :]\n",
        "                  )\n",
        "     temp_frame_mask[i, :length] = 1\n",
        "   frame_features[idx,] = temp_frame_features.squeeze()\n",
        "   frame_masks[idx,] = temp_frame_mask.squeeze()\n",
        "  return (frame_features, frame_masks), labels"
      ],
      "metadata": {
        "id": "-5nB62mt3x3M"
      },
      "execution_count": null,
      "outputs": []
    },
    {
      "cell_type": "code",
      "source": [
        "train_data, train_labels = prepare_all_videos(train_df)\n",
        "test_data, test_labels = prepare_all_videos(test_df)"
      ],
      "metadata": {
        "id": "UyQpgBdHMX_Y"
      },
      "execution_count": null,
      "outputs": []
    },
    {
      "cell_type": "code",
      "source": [
        "len(test_data)"
      ],
      "metadata": {
        "colab": {
          "base_uri": "https://localhost:8080/"
        },
        "id": "iSJYJ-WTgp8X",
        "outputId": "660054e1-2e44-4c52-b387-7030c4d37056"
      },
      "execution_count": null,
      "outputs": [
        {
          "output_type": "execute_result",
          "data": {
            "text/plain": [
              "2"
            ]
          },
          "metadata": {},
          "execution_count": 42
        }
      ]
    },
    {
      "cell_type": "code",
      "source": [
        "class_vocab = label_processor.get_vocabulary()\n",
        "frame_features_input = keras.Input((SEQ_NUMBER, 2048))\n",
        "mask_input = keras.Input((SEQ_NUMBER,), dtype=\"bool\")\n",
        "\n",
        "x = keras.layers.GRU(16, return_sequences=True)(\n",
        "        frame_features_input, mask=mask_input\n",
        "  )\n",
        "x = keras.layers.GRU(8)(x)\n",
        "x = keras.layers.Dropout(0.4)(x)\n",
        "x = keras.layers.Dense(8, activation=\"relu\")(x)\n",
        "output = keras.layers.Dense(len(class_vocab), activation=\"softmax\")(x)\n",
        "rnn_model = keras.Model([frame_features_input, mask_input], output)\n",
        "\n",
        "rnn_model.compile(\n",
        "    loss=\"sparse_categorical_crossentropy\", optimizer=\"adam\", metrics=[\"accuracy\"]\n",
        ")"
      ],
      "metadata": {
        "id": "YPUKspgKM9Tf"
      },
      "execution_count": null,
      "outputs": []
    },
    {
      "cell_type": "code",
      "source": [
        "rnn_model.summary()"
      ],
      "metadata": {
        "colab": {
          "base_uri": "https://localhost:8080/"
        },
        "id": "fMQyiHLmfaEK",
        "outputId": "5f4fbb66-8fa1-4077-eb82-7d07686eaafa"
      },
      "execution_count": null,
      "outputs": [
        {
          "output_type": "stream",
          "name": "stdout",
          "text": [
            "Model: \"model_4\"\n",
            "__________________________________________________________________________________________________\n",
            " Layer (type)                   Output Shape         Param #     Connected to                     \n",
            "==================================================================================================\n",
            " input_11 (InputLayer)          [(None, 20, 2048)]   0           []                               \n",
            "                                                                                                  \n",
            " input_12 (InputLayer)          [(None, 20)]         0           []                               \n",
            "                                                                                                  \n",
            " gru_6 (GRU)                    (None, 20, 16)       99168       ['input_11[0][0]',               \n",
            "                                                                  'input_12[0][0]']               \n",
            "                                                                                                  \n",
            " gru_7 (GRU)                    (None, 8)            624         ['gru_6[0][0]']                  \n",
            "                                                                                                  \n",
            " dropout_3 (Dropout)            (None, 8)            0           ['gru_7[0][0]']                  \n",
            "                                                                                                  \n",
            " dense_6 (Dense)                (None, 8)            72          ['dropout_3[0][0]']              \n",
            "                                                                                                  \n",
            " dense_7 (Dense)                (None, 3)            27          ['dense_6[0][0]']                \n",
            "                                                                                                  \n",
            "==================================================================================================\n",
            "Total params: 99,891\n",
            "Trainable params: 99,891\n",
            "Non-trainable params: 0\n",
            "__________________________________________________________________________________________________\n"
          ]
        }
      ]
    },
    {
      "cell_type": "code",
      "source": [
        "filepath = 'rnn_model/classifier'\n",
        "checkpoint = keras.callbacks.ModelCheckpoint(\n",
        "    filepath, save_weights_only=True, save_best_only=True, verbose=1\n",
        ")\n",
        "\n",
        "history_1 = rnn_model.fit(\n",
        "    [train_data[0], train_data[1]],\n",
        "    train_labels,\n",
        "    validation_split=0.3,\n",
        "    epochs=10,\n",
        "    callbacks=[checkpoint],\n",
        "\n",
        ")"
      ],
      "metadata": {
        "colab": {
          "base_uri": "https://localhost:8080/"
        },
        "id": "vT1S2Z4_Q5tl",
        "outputId": "8c373218-0d15-4055-b858-0930d0f7227b"
      },
      "execution_count": null,
      "outputs": [
        {
          "output_type": "stream",
          "name": "stdout",
          "text": [
            "Epoch 1/10\n",
            "10/11 [==========================>...] - ETA: 0s - loss: 1.0604 - accuracy: 0.3875\n",
            "Epoch 00001: val_loss improved from inf to 0.88994, saving model to rnn_model/classifier\n",
            "11/11 [==============================] - 13s 370ms/step - loss: 1.0551 - accuracy: 0.3971 - val_loss: 0.8899 - val_accuracy: 0.8133\n",
            "Epoch 2/10\n",
            "10/11 [==========================>...] - ETA: 0s - loss: 1.0195 - accuracy: 0.4281\n",
            "Epoch 00002: val_loss improved from 0.88994 to 0.88609, saving model to rnn_model/classifier\n",
            "11/11 [==============================] - 0s 45ms/step - loss: 1.0183 - accuracy: 0.4229 - val_loss: 0.8861 - val_accuracy: 1.0000\n",
            "Epoch 3/10\n",
            " 9/11 [=======================>......] - ETA: 0s - loss: 1.0080 - accuracy: 0.4306\n",
            "Epoch 00003: val_loss improved from 0.88609 to 0.85935, saving model to rnn_model/classifier\n",
            "11/11 [==============================] - 0s 44ms/step - loss: 1.0109 - accuracy: 0.4457 - val_loss: 0.8594 - val_accuracy: 1.0000\n",
            "Epoch 4/10\n",
            " 9/11 [=======================>......] - ETA: 0s - loss: 1.0178 - accuracy: 0.4792\n",
            "Epoch 00004: val_loss did not improve from 0.85935\n",
            "11/11 [==============================] - 0s 41ms/step - loss: 0.9997 - accuracy: 0.4943 - val_loss: 0.8793 - val_accuracy: 1.0000\n",
            "Epoch 5/10\n",
            "11/11 [==============================] - ETA: 0s - loss: 1.0125 - accuracy: 0.4457\n",
            "Epoch 00005: val_loss improved from 0.85935 to 0.83223, saving model to rnn_model/classifier\n",
            "11/11 [==============================] - 0s 46ms/step - loss: 1.0125 - accuracy: 0.4457 - val_loss: 0.8322 - val_accuracy: 1.0000\n",
            "Epoch 6/10\n",
            "10/11 [==========================>...] - ETA: 0s - loss: 0.9913 - accuracy: 0.4875\n",
            "Epoch 00006: val_loss improved from 0.83223 to 0.81075, saving model to rnn_model/classifier\n",
            "11/11 [==============================] - 0s 47ms/step - loss: 1.0017 - accuracy: 0.4771 - val_loss: 0.8107 - val_accuracy: 1.0000\n",
            "Epoch 7/10\n",
            "10/11 [==========================>...] - ETA: 0s - loss: 1.0004 - accuracy: 0.5000\n",
            "Epoch 00007: val_loss improved from 0.81075 to 0.80444, saving model to rnn_model/classifier\n",
            "11/11 [==============================] - 0s 30ms/step - loss: 1.0031 - accuracy: 0.5000 - val_loss: 0.8044 - val_accuracy: 1.0000\n",
            "Epoch 8/10\n",
            " 9/11 [=======================>......] - ETA: 0s - loss: 1.0003 - accuracy: 0.5139\n",
            "Epoch 00008: val_loss improved from 0.80444 to 0.77915, saving model to rnn_model/classifier\n",
            "11/11 [==============================] - 0s 45ms/step - loss: 1.0013 - accuracy: 0.5029 - val_loss: 0.7791 - val_accuracy: 1.0000\n",
            "Epoch 9/10\n",
            "11/11 [==============================] - ETA: 0s - loss: 1.0109 - accuracy: 0.4629\n",
            "Epoch 00009: val_loss improved from 0.77915 to 0.77799, saving model to rnn_model/classifier\n",
            "11/11 [==============================] - 0s 45ms/step - loss: 1.0109 - accuracy: 0.4629 - val_loss: 0.7780 - val_accuracy: 1.0000\n",
            "Epoch 10/10\n",
            "10/11 [==========================>...] - ETA: 0s - loss: 1.0138 - accuracy: 0.4500\n",
            "Epoch 00010: val_loss improved from 0.77799 to 0.77774, saving model to rnn_model/classifier\n",
            "11/11 [==============================] - 0s 45ms/step - loss: 1.0036 - accuracy: 0.4486 - val_loss: 0.7777 - val_accuracy: 1.0000\n"
          ]
        }
      ]
    },
    {
      "cell_type": "code",
      "source": [
        "_, accuracy = rnn_model.evaluate([test_data[0], test_data[1]], test_labels)\n",
        "print(f\"Test accuracy: {round(accuracy * 100, 2)}%\")"
      ],
      "metadata": {
        "colab": {
          "base_uri": "https://localhost:8080/"
        },
        "id": "Mm7lSkw5hOpm",
        "outputId": "82e053a1-57c3-4ce0-b3b1-89b93731da3b"
      },
      "execution_count": null,
      "outputs": [
        {
          "output_type": "stream",
          "name": "stdout",
          "text": [
            "2/2 [==============================] - 0s 14ms/step - loss: 0.9227 - accuracy: 0.6364\n",
            "Test accuracy: 63.64%\n"
          ]
        }
      ]
    },
    {
      "cell_type": "code",
      "source": [
        "pd.DataFrame(history_1.history).plot(figsize=(10,7))"
      ],
      "metadata": {
        "colab": {
          "base_uri": "https://localhost:8080/",
          "height": 446
        },
        "id": "g010x277iCbd",
        "outputId": "95e33f1a-e124-44e4-9e6c-8cc33465def1"
      },
      "execution_count": null,
      "outputs": [
        {
          "output_type": "execute_result",
          "data": {
            "text/plain": [
              "<matplotlib.axes._subplots.AxesSubplot at 0x7f301792abd0>"
            ]
          },
          "metadata": {},
          "execution_count": 48
        },
        {
          "output_type": "display_data",
          "data": {
            "image/png": "[encoded data removed]",
            "text/plain": [
              "<Figure size 720x504 with 1 Axes>"
            ]
          },
          "metadata": {
            "needs_background": "light"
          }
        }
      ]
    },
    {
      "cell_type": "markdown",
      "source": [
        "##3. Feed extracted features to rnn model"
      ],
      "metadata": {
        "id": "_fyHtl5nbv4T"
      }
    },
    {
      "cell_type": "code",
      "source": [
        ""
      ],
      "metadata": {
        "id": "lI_rcKdsfWzZ"
      },
      "execution_count": null,
      "outputs": []
    }
  ]
}