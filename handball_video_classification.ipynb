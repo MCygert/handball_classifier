{
  "nbformat": 4,
  "nbformat_minor": 0,
  "metadata": {
    "colab": {
      "name": "handball_video_classification.ipynb",
      "provenance": [],
      "mount_file_id": "1eqyc_0FDaJneqC08vk_vAQndpJy1YGtx",
      "authorship_tag": "ABX9TyMR4DIqcz4oH21DehuXw5sC",
      "include_colab_link": true
    },
    "kernelspec": {
      "name": "python3",
      "display_name": "Python 3"
    },
    "language_info": {
      "name": "python"
    }
  },
  "cells": [
    {
      "cell_type": "markdown",
      "metadata": {
        "id": "view-in-github",
        "colab_type": "text"
      },
      "source": [
        "<a href=\"https://colab.research.google.com/github/MCygert/handball_classifier/blob/main/handball_video_classification.ipynb\" target=\"_parent\"><img src=\"https://colab.research.google.com/assets/colab-badge.svg\" alt=\"Open In Colab\"/></a>"
      ]
    },
    {
      "cell_type": "markdown",
      "source": [
        "# Project made for classifing actions in handball\n"
      ],
      "metadata": {
        "id": "YYEjbGTVvvku"
      }
    },
    {
      "cell_type": "markdown",
      "source": [
        "## Loading data"
      ],
      "metadata": {
        "id": "AzSU95yRwAsH"
      }
    },
    {
      "cell_type": "code",
      "source": [
        "!ls"
      ],
      "metadata": {
        "colab": {
          "base_uri": "https://localhost:8080/"
        },
        "id": "kDwlSEbGwCy3",
        "outputId": "c5abacbc-e0f9-4892-c948-7b66f1308a93"
      },
      "execution_count": 87,
      "outputs": [
        {
          "output_type": "stream",
          "name": "stdout",
          "text": [
            "drive  sample_data\n"
          ]
        }
      ]
    },
    {
      "cell_type": "code",
      "source": [
        "directory_to_data = \"drive/MyDrive/handball\"\n",
        "!ls drive/MyDrive/handball"
      ],
      "metadata": {
        "colab": {
          "base_uri": "https://localhost:8080/"
        },
        "id": "pc-k5JT2wcHT",
        "outputId": "fc813e90-1b78-46a7-ec19-157477d2254e"
      },
      "execution_count": 155,
      "outputs": [
        {
          "output_type": "stream",
          "name": "stdout",
          "text": [
            "passes\tsaves  shots\n"
          ]
        }
      ]
    },
    {
      "cell_type": "markdown",
      "source": [
        "## 1. We need to split data 80/20 into folders\n"
      ],
      "metadata": {
        "id": "c3NeWlsU0Obn"
      }
    },
    {
      "cell_type": "code",
      "source": [
        "import os\n",
        "import shutil\n",
        "\n",
        "# Create folders for test and train data\n",
        "os.mkdir('test')\n",
        "os.mkdir('train')\n",
        "\n",
        "# Creating subfolders per class in both folders\n",
        "directories = []\n",
        "for dirname, dirpath, filename in os.walk(directory_to_data):\n",
        "  directories.append(dirpath)\n",
        "directories = directories[0]\n",
        "\n",
        "for directory in directories:\n",
        "  os.mkdir(f'test/{directory}')\n",
        "  os.mkdir(f'train/{directory}')"
      ],
      "metadata": {
        "id": "3KKn67Xw1CQR",
        "colab": {
          "base_uri": "https://localhost:8080/",
          "height": 236
        },
        "outputId": "67ea262e-12ee-4bdf-9379-887d1647523c"
      },
      "execution_count": 161,
      "outputs": [
        {
          "output_type": "error",
          "ename": "FileExistsError",
          "evalue": "ignored",
          "traceback": [
            "\u001b[0;31m---------------------------------------------------------------------------\u001b[0m",
            "\u001b[0;31mFileExistsError\u001b[0m                           Traceback (most recent call last)",
            "\u001b[0;32m<ipython-input-161-1b80ca01ed5e>\u001b[0m in \u001b[0;36m<module>\u001b[0;34m()\u001b[0m\n\u001b[1;32m      3\u001b[0m \u001b[0;34m\u001b[0m\u001b[0m\n\u001b[1;32m      4\u001b[0m \u001b[0;31m# Create folders for test and train data\u001b[0m\u001b[0;34m\u001b[0m\u001b[0;34m\u001b[0m\u001b[0;34m\u001b[0m\u001b[0m\n\u001b[0;32m----> 5\u001b[0;31m \u001b[0mos\u001b[0m\u001b[0;34m.\u001b[0m\u001b[0mmkdir\u001b[0m\u001b[0;34m(\u001b[0m\u001b[0;34m'test'\u001b[0m\u001b[0;34m)\u001b[0m\u001b[0;34m\u001b[0m\u001b[0;34m\u001b[0m\u001b[0m\n\u001b[0m\u001b[1;32m      6\u001b[0m \u001b[0mos\u001b[0m\u001b[0;34m.\u001b[0m\u001b[0mmkdir\u001b[0m\u001b[0;34m(\u001b[0m\u001b[0;34m'train'\u001b[0m\u001b[0;34m)\u001b[0m\u001b[0;34m\u001b[0m\u001b[0;34m\u001b[0m\u001b[0m\n\u001b[1;32m      7\u001b[0m \u001b[0;34m\u001b[0m\u001b[0m\n",
            "\u001b[0;31mFileExistsError\u001b[0m: [Errno 17] File exists: 'test'"
          ]
        }
      ]
    },
    {
      "cell_type": "code",
      "source": [
        "files = []\n",
        "sorted_by_classes = {}\n",
        "for dirname, dirpath, filename in os.walk(directory_to_data):\n",
        "  files.append(filename)\n",
        "files = files[1:]\n",
        "# Create dictionary which has{class: list_of_videos}\n",
        "for i, dictionary in enumerate(directories):\n",
        "  sorted_by_classes[dictionary] = files[i]  \n"
      ],
      "metadata": {
        "id": "gJrOduzyScnI"
      },
      "execution_count": 166,
      "outputs": []
    },
    {
      "cell_type": "code",
      "source": [
        "import random\n",
        "def split_data(data):\n",
        "  '''\n",
        "  Returning 2 lists which are splitted in 10/90 manner \n",
        "  '''\n",
        "  train_data = data.copy()\n",
        "  test_data = []\n",
        "  for i in range(round(len(data) / 10)):\n",
        "    test_data.append(train_data.pop(random.randrange(len(train_data))))\n",
        "  return train_data, test_data"
      ],
      "metadata": {
        "id": "HkB6ffnvl9Uh"
      },
      "execution_count": 167,
      "outputs": []
    },
    {
      "cell_type": "code",
      "source": [
        "train_data, test_data = split_data(sorted_by_classes['saves'])\n",
        "\n",
        "# Check if it's splitting correctly\n",
        "len(train_data), len(test_data), len(sorted_by_classes['saves'])"
      ],
      "metadata": {
        "colab": {
          "base_uri": "https://localhost:8080/"
        },
        "id": "M5E2ueKUoPOL",
        "outputId": "ed97fefa-f8e0-420d-bdbe-7fffad328882"
      },
      "execution_count": 168,
      "outputs": [
        {
          "output_type": "execute_result",
          "data": {
            "text/plain": [
              "(49, 5, 54)"
            ]
          },
          "metadata": {},
          "execution_count": 168
        }
      ]
    },
    {
      "cell_type": "code",
      "source": [
        "# Create splitted data\n",
        "train_elements = {}\n",
        "test_elements = {}\n",
        "for key in sorted_by_classes.items():\n",
        "  class_of_video = key[0]\n",
        "  train, test = split_data(key[1])\n",
        "  train_elements[class_of_video] = train\n",
        "  test_elements[class_of_video] = test\n",
        "test_elements['saves'], test_elements['passes'], test_elements['shots']"
      ],
      "metadata": {
        "colab": {
          "base_uri": "https://localhost:8080/"
        },
        "id": "MxDMbQw4qR2J",
        "outputId": "d1f84c1b-a07e-4e5e-faeb-9b4d35f91881"
      },
      "execution_count": 170,
      "outputs": [
        {
          "output_type": "execute_result",
          "data": {
            "text/plain": [
              "(['save47.mp4', 'save36.mp4', 'save32.mp4', 'save9.mp4', 'save12.mp4'],\n",
              " ['pass4.mp4',\n",
              "  'pass311.mp4',\n",
              "  'pass279.mp4',\n",
              "  'pass8.mp4',\n",
              "  'pass299.mp4',\n",
              "  'pass136.mp4',\n",
              "  'pass209.mp4',\n",
              "  'pass99.mp4',\n",
              "  'pass52.mp4',\n",
              "  'pass310.mp4',\n",
              "  'pass284.mp4',\n",
              "  'pass143.mp4',\n",
              "  '135.mp4',\n",
              "  'pass339.mp4',\n",
              "  'pass105.mp4',\n",
              "  'pass128.mp4',\n",
              "  'pass212.mp4',\n",
              "  'pass265.mp4',\n",
              "  'pass335.mp4',\n",
              "  'pass223.mp4',\n",
              "  'pass249.mp4',\n",
              "  'pass30.mp4',\n",
              "  'pass71.mp4',\n",
              "  'pass153.mp4',\n",
              "  'pass53.mp4',\n",
              "  'pass73.mp4',\n",
              "  '164.mp4',\n",
              "  'pass90.mp4',\n",
              "  'pass56.mp4',\n",
              "  'pass272.mp4',\n",
              "  'pass9.mp4',\n",
              "  'pass259.mp4',\n",
              "  'pass228.mp4',\n",
              "  'pass217.mp4',\n",
              "  'pass280.mp4'],\n",
              " ['shot49.mp4',\n",
              "  'shot99.mp4',\n",
              "  'shot135.mp4',\n",
              "  'shot34.mp4',\n",
              "  'shot145.mp4',\n",
              "  'shot139.mp4',\n",
              "  'shot151.mp4',\n",
              "  'shot123.mp4',\n",
              "  'shot7.mp4',\n",
              "  'shot36.mp4',\n",
              "  'shot128.mp4',\n",
              "  'shot101.mp4',\n",
              "  'shot88.mp4',\n",
              "  'shot47.mp4',\n",
              "  'shot40.mp4'])"
            ]
          },
          "metadata": {},
          "execution_count": 170
        }
      ]
    },
    {
      "cell_type": "code",
      "source": [
        "def move_files_to_correct_directories(data_dictionary, type_of_data):\n",
        "  for key in data_dictionary.items():\n",
        "    for file_name in key[1]:\n",
        "      shutil.copy(directory_to_data + '/' + key[0] + '/' + file_name, type_of_data + '/' + key[0] + '/' + file_name)"
      ],
      "metadata": {
        "id": "tPny7nlosteo"
      },
      "execution_count": 171,
      "outputs": []
    },
    {
      "cell_type": "code",
      "source": [
        "move_files_to_correct_directories(train_elements, 'train')\n",
        "move_files_to_correct_directories(test_elements, 'test')"
      ],
      "metadata": {
        "id": "0k1IbMBouFpX"
      },
      "execution_count": 172,
      "outputs": []
    },
    {
      "cell_type": "code",
      "source": [
        "!rm -rf test"
      ],
      "metadata": {
        "id": "QGQnQVhXvLvr"
      },
      "execution_count": 154,
      "outputs": []
    },
    {
      "cell_type": "markdown",
      "source": [
        "## 2. Extract jpegs of videos"
      ],
      "metadata": {
        "id": "vMKHHqqG0ihW"
      }
    },
    {
      "cell_type": "markdown",
      "source": [
        "## 3. summarize it with csv\n"
      ],
      "metadata": {
        "id": "v3cOzyas0o-r"
      }
    },
    {
      "cell_type": "code",
      "source": [
        ""
      ],
      "metadata": {
        "id": "JcC6MCse0wKb"
      },
      "execution_count": 95,
      "outputs": []
    }
  ]
}